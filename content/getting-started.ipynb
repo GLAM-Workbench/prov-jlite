{
 "cells": [
  {
   "cell_type": "markdown",
   "id": "5e5b32fb-85a3-473e-9c0a-54e59a724bb2",
   "metadata": {},
   "source": [
    "# Getting started with the PROV API"
   ]
  },
  {
   "cell_type": "code",
   "execution_count": 10,
   "id": "7588b4ad-31cb-443c-87de-c8ec7322fb39",
   "metadata": {},
   "outputs": [],
   "source": [
    "import requests\n",
    "import pandas as pd\n",
    "from IPython.display import JSON\n",
    "# necessary for jlite\n",
    "import jinja2"
   ]
  },
  {
   "cell_type": "markdown",
   "id": "d8059061-d042-47f6-925c-2360cfb87bd0",
   "metadata": {},
   "source": [
    "The PROV API provides data about PROV's archival holdings in machine readable form.\n",
    "\n",
    "Making a request is easy. The base url for API requests is `https://api.prov.vic.gov.au/search/query`. No authentication is required, and the only mandatory parameter is `q` which you use to pass along your search query. Here's an example of a simple search."
   ]
  },
  {
   "cell_type": "code",
   "execution_count": 12,
   "id": "6e93791c-64a6-441e-8ac3-2064f81a51fe",
   "metadata": {},
   "outputs": [
    {
     "name": "stdout",
     "output_type": "stream",
     "text": [
      "https://api.prov.vic.gov.au/search/query?q=ostrich\n"
     ]
    }
   ],
   "source": [
    "api_url = \"https://api.prov.vic.gov.au/search/query\"\n",
    "params = {\n",
    "    \"q\": \"ostrich\",\n",
    "}\n",
    "response = requests.get(api_url, params=params)\n",
    "print(response.url)\n",
    "data = response.json()"
   ]
  },
  {
   "cell_type": "markdown",
   "id": "f7c7af8e-9626-422a-87a0-d673721d88ed",
   "metadata": {},
   "source": [
    "The number of matching search results is contained in the `response` -> `numFound` field."
   ]
  },
  {
   "cell_type": "code",
   "execution_count": 13,
   "id": "5364af40-961e-43bc-a4e7-a9f31d184fbb",
   "metadata": {},
   "outputs": [
    {
     "name": "stdout",
     "output_type": "stream",
     "text": [
      "There are 10 results.\n"
     ]
    }
   ],
   "source": [
    "print(f\"There are {data['response']['numFound']:,} results.\")"
   ]
  },
  {
   "cell_type": "markdown",
   "id": "ff6dca36-0c34-4a38-a53b-f05eb8357b9c",
   "metadata": {},
   "source": [
    "The full search results can be found in `response` -> `docs`. Let's try listing all the titles."
   ]
  },
  {
   "cell_type": "code",
   "execution_count": 14,
   "id": "b4169706-f368-4a3e-b3f8-2ce909391b1c",
   "metadata": {},
   "outputs": [
    {
     "name": "stdout",
     "output_type": "stream",
     "text": [
      "D501 Head close-up of ostrich\n",
      "D502 Head close-up of ostrich\n",
      "110\n",
      "1004/312 Marinda McOstrich Jaffray: Will; Grant of probate\n",
      "1004/312 Marinda McOstrich Jaffray: Grant of probate\n",
      "M OSTRICH\n",
      "553055\n",
      "M OSTRICH\n",
      "MATT OSTRICHE\n",
      "V332 [Daryl Somers and Ozzie Ostrich on the children's show 'Hey, Hey' It's Saturday']\n"
     ]
    }
   ],
   "source": [
    "for result in data[\"response\"][\"docs\"]:\n",
    "    print(result[\"title\"])"
   ]
  },
  {
   "cell_type": "markdown",
   "id": "410ed139-da9e-4c65-84a7-8fab8c48812c",
   "metadata": {},
   "source": [
    "Here's the first result in full."
   ]
  },
  {
   "cell_type": "code",
   "execution_count": 15,
   "id": "eda78a1b-8a3a-4faa-bddb-6034e8e27d98",
   "metadata": {},
   "outputs": [
    {
     "data": {
      "application/json": {
       "_id": "B7BE47C9-5613-11EB-BE8C-6757FF78D049",
       "_version_": 1816058689549762600,
       "access_restriction": "No",
       "agencies.date_ranges": [
        "[1873 TO 1985]"
       ],
       "agencies.ids": [
        "VA714"
       ],
       "agencies.titles": [
        "Education Department"
       ],
       "box_number_sort": [
        13
       ],
       "category": "Item",
       "citation": "VPRS 14517/P0001/5, D501",
       "citation_sort": "14517P00010000130000001550",
       "consignment_id": "P0001",
       "control_symbol_labels": [
        "Registration Number"
       ],
       "control_symbol_values": [
        "D501"
       ],
       "date_range": [
        "[1753 TO 3000]"
       ],
       "date_range.not_described": [
        "[1753 TO 3000]"
       ],
       "description.aggregate": "Subject : OSTRICHES",
       "description.subject": [
        "OSTRICHES"
       ],
       "end_dt": "3000-12-31T00:00:00Z",
       "entity": "Record",
       "format": "Physical",
       "identifier.PID.id": "B7BE47C9-5613-11EB-BE8C-6757FF78D049",
       "identifier.PROV_ACM.id": "VPRS 14517/P0001/5/155",
       "iiif-manifest": "https://images.prov.vic.gov.au/manifests/B7/BE/47/C9/-5613-11EB-BE8C-6757FF78D049/images/manifest.json",
       "iiif-thumbnail": "https://images.prov.vic.gov.au/loris/B7%2FBE%2F47%2FC9%2F-5613-11EB-BE8C-6757FF78D049%2Fimages%2F1%2Ffiles%2F14517-00013-D0501.tif/full/!200,200/0/default.jpg",
       "is_part_of_item.PID": [
        "D6BD4E47-F7E6-11E9-AE98-87DB74D2147D"
       ],
       "is_part_of_item.title": [
        "D332-D667"
       ],
       "is_part_of_series.id": [
        "VPRS14517"
       ],
       "is_part_of_series.title": [
        "Negatives of Photographs [Publications Branch]"
       ],
       "item_discrete": "No",
       "jurisdictional_coverage": [
        "Victoria"
       ],
       "location": [
        "North Melbourne",
        "Online"
       ],
       "medium": [
        "Polyester Negative"
       ],
       "parents.ids": [
        "VPRS14517",
        "D6BD4E47-F7E6-11E9-AE98-87DB74D2147D"
       ],
       "parents.titles": [
        "Negatives of Photographs [Publications Branch]",
        "[Not Set]"
       ],
       "presentation_text": "Subject : OSTRICHES",
       "record_form": [
        "Photograph or Image"
       ],
       "resp_agency_id": [
        "3098"
       ],
       "resp_agency_title": [
        "Department of Education"
       ],
       "resp_agency_title_facet": [
        "Department of Education"
       ],
       "rights_statement": [
        "Open Public Records Act 1973"
       ],
       "rights_status": [
        "Open"
       ],
       "series_id": "14517",
       "start_dt": "1753-01-01T00:00:00Z",
       "status": "Published",
       "timestamp": 1622643613,
       "title": "D501 Head close-up of ostrich"
      },
      "text/plain": [
       "<IPython.core.display.JSON object>"
      ]
     },
     "execution_count": 15,
     "metadata": {
      "application/json": {
       "expanded": false,
       "root": "root"
      }
     },
     "output_type": "execute_result"
    }
   ],
   "source": [
    "JSON(data[\"response\"][\"docs\"][0])"
   ]
  },
  {
   "cell_type": "markdown",
   "id": "c4a211e8-d3de-4ebd-bd37-2d5111fa3d82",
   "metadata": {},
   "source": [
    "## But what are you searching?\n",
    "\n",
    "It's not immediately obvious how much, or what types of data the PROV API returns. You can find out how many records there are by using a 'blank' query – setting `q` to `*:*` returns *everything*."
   ]
  },
  {
   "cell_type": "code",
   "execution_count": 8,
   "id": "d068401d-eb8c-432d-a938-64f058548985",
   "metadata": {},
   "outputs": [
    {
     "name": "stdout",
     "output_type": "stream",
     "text": [
      "https://api.prov.vic.gov.au/search/query?q=%2A%3A%2A\n",
      "There are 10,137,566 results in total.\n"
     ]
    }
   ],
   "source": [
    "params = {\n",
    "    \"q\": \"*:*\",\n",
    "}\n",
    "response = requests.get(api_url, params=params)\n",
    "print(response.url)\n",
    "data = response.json()\n",
    "\n",
    "print(f\"There are {data['response']['numFound']:,} results in total.\")"
   ]
  },
  {
   "cell_type": "markdown",
   "id": "8bfdd9bb-7d1f-4ad5-b239-dce627aad4fd",
   "metadata": {},
   "source": [
    "But what sorts of things are described by those 10+ million records? You can explore this by using facets to get a count of values in the `category` field. To retrieve the facet counts, set the `facet` parameter to `true`, and `facet.field` to `category`."
   ]
  },
  {
   "cell_type": "code",
   "execution_count": 202,
   "id": "aeebee90-864a-4b64-baa6-a57ee1d60062",
   "metadata": {},
   "outputs": [
    {
     "name": "stdout",
     "output_type": "stream",
     "text": [
      "https://api.prov.vic.gov.au/search/query?q=%2A%3A%2A&facet=true&facet.field=category&rows=0\n"
     ]
    },
    {
     "data": {
      "text/html": [
       "<style type=\"text/css\">\n",
       "#T_7af35_row0_col1 {\n",
       "  width: 10em;\n",
       "  background: linear-gradient(90deg, #d65f5f 100.0%, transparent 100.0%);\n",
       "}\n",
       "#T_7af35_row1_col1 {\n",
       "  width: 10em;\n",
       "  background: linear-gradient(90deg, #d65f5f 57.1%, transparent 57.1%);\n",
       "}\n",
       "#T_7af35_row2_col1 {\n",
       "  width: 10em;\n",
       "  background: linear-gradient(90deg, #d65f5f 2.4%, transparent 2.4%);\n",
       "}\n",
       "#T_7af35_row3_col1 {\n",
       "  width: 10em;\n",
       "  background: linear-gradient(90deg, #d65f5f 0.4%, transparent 0.4%);\n",
       "}\n",
       "#T_7af35_row4_col1 {\n",
       "  width: 10em;\n",
       "  background: linear-gradient(90deg, #d65f5f 0.3%, transparent 0.3%);\n",
       "}\n",
       "#T_7af35_row5_col1, #T_7af35_row6_col1 {\n",
       "  width: 10em;\n",
       "  background: linear-gradient(90deg, #d65f5f 0.0%, transparent 0.0%);\n",
       "}\n",
       "</style>\n",
       "<table id=\"T_7af35\">\n",
       "  <thead>\n",
       "    <tr>\n",
       "      <th class=\"blank level0\" >&nbsp;</th>\n",
       "      <th id=\"T_7af35_level0_col0\" class=\"col_heading level0 col0\" >facet</th>\n",
       "      <th id=\"T_7af35_level0_col1\" class=\"col_heading level0 col1\" >count</th>\n",
       "    </tr>\n",
       "  </thead>\n",
       "  <tbody>\n",
       "    <tr>\n",
       "      <th id=\"T_7af35_level0_row0\" class=\"row_heading level0 row0\" >0</th>\n",
       "      <td id=\"T_7af35_row0_col0\" class=\"data row0 col0\" >Item</td>\n",
       "      <td id=\"T_7af35_row0_col1\" class=\"data row0 col1\" >6,329,699</td>\n",
       "    </tr>\n",
       "    <tr>\n",
       "      <th id=\"T_7af35_level0_row1\" class=\"row_heading level0 row1\" >1</th>\n",
       "      <td id=\"T_7af35_row1_col0\" class=\"data row1 col0\" >Image</td>\n",
       "      <td id=\"T_7af35_row1_col1\" class=\"data row1 col1\" >3,613,751</td>\n",
       "    </tr>\n",
       "    <tr>\n",
       "      <th id=\"T_7af35_level0_row2\" class=\"row_heading level0 row2\" >2</th>\n",
       "      <td id=\"T_7af35_row2_col0\" class=\"data row2 col0\" >relatedEntity</td>\n",
       "      <td id=\"T_7af35_row2_col1\" class=\"data row2 col1\" >150,066</td>\n",
       "    </tr>\n",
       "    <tr>\n",
       "      <th id=\"T_7af35_level0_row3\" class=\"row_heading level0 row3\" >3</th>\n",
       "      <td id=\"T_7af35_row3_col0\" class=\"data row3 col0\" >Consignment</td>\n",
       "      <td id=\"T_7af35_row3_col1\" class=\"data row3 col1\" >23,610</td>\n",
       "    </tr>\n",
       "    <tr>\n",
       "      <th id=\"T_7af35_level0_row4\" class=\"row_heading level0 row4\" >4</th>\n",
       "      <td id=\"T_7af35_row4_col0\" class=\"data row4 col0\" >Series</td>\n",
       "      <td id=\"T_7af35_row4_col1\" class=\"data row4 col1\" >16,930</td>\n",
       "    </tr>\n",
       "    <tr>\n",
       "      <th id=\"T_7af35_level0_row5\" class=\"row_heading level0 row5\" >5</th>\n",
       "      <td id=\"T_7af35_row5_col0\" class=\"data row5 col0\" >Agency</td>\n",
       "      <td id=\"T_7af35_row5_col1\" class=\"data row5 col1\" >3,137</td>\n",
       "    </tr>\n",
       "    <tr>\n",
       "      <th id=\"T_7af35_level0_row6\" class=\"row_heading level0 row6\" >6</th>\n",
       "      <td id=\"T_7af35_row6_col0\" class=\"data row6 col0\" >Function</td>\n",
       "      <td id=\"T_7af35_row6_col1\" class=\"data row6 col1\" >321</td>\n",
       "    </tr>\n",
       "  </tbody>\n",
       "</table>\n"
      ],
      "text/plain": [
       "<pandas.io.formats.style.Styler at 0x7d1b41787370>"
      ]
     },
     "execution_count": 202,
     "metadata": {},
     "output_type": "execute_result"
    }
   ],
   "source": [
    "params = {\n",
    "    \"q\": \"*:*\",\n",
    "    \"facet\": \"true\",\n",
    "    \"facet.field\": \"category\",\n",
    "    \"rows\": 0\n",
    "}\n",
    "response = requests.get(api_url, params=params)\n",
    "print(response.url)\n",
    "\n",
    "data = response.json()\n",
    "values = data[\"facet_counts\"][\"facet_fields\"][\"category\"]\n",
    "facets = [{\"facet\": values[i], \"count\": values[i+1]} for i in range(0, len(values), 2)]\n",
    "pd.DataFrame(facets).style.format(thousands=\",\").bar()"
   ]
  },
  {
   "cell_type": "markdown",
   "id": "4f61dedb-8851-41ff-a039-58e99142eded",
   "metadata": {},
   "source": [
    "*Items*, *Series*, *Agencies*, and *Functions* are the basic entities used to describe the PROV's archival holdings. You can find out more about their [Archival Control Model](https://prov.vic.gov.au/recordkeeping-government/a-z-topics/archival-control-model) on the PROV website.\n",
    "\n",
    "> *Record Item*: a discrete element [of] records managed within a ‘Series’. An Item represents a part of a recordkeeping system or a logical or convenient grouping of records. It may represent one record or multiple records such as a group of folios fastened together to form a file, a group of electronic files aggregated in a folder, or a single volume.\n",
    "\n",
    "> *Record Series*: a group of records which are recorded or maintained by the same agency (or agencies) and which:\n",
    "> - are in the same numerical, alphabetical, chronological or other identifiable sequence;\n",
    "> - or result from the same accumulation or filing process.\n",
    "\n",
    "> The *agent entity* in PROV’s ACM represents a Victorian Government agency—an administrative unit which has or had responsibility for the provision of at least one aspect of government administration. This entity helps to provide a description of a record’s context, namely who created the records and for what purpose.\n",
    "\n",
    "> The *function entity* in PROV’s ACM represents the major responsibilities of Victorian Government that may be managed by one or more agencies over time. Applying this entity helps to:\n",
    "> - group together various records with the same administrative record context\n",
    "> - links records to their provenance and complementary information.\n",
    "\n",
    "If you look again at the full result displayed above, you'll see that the `category` field is set to 'Item'. This result describes a discrete element within a series. If you look at the `is_part_of_series.title` field you'll see that it belongs to a series titled 'Negatives of Photographs [Publications Branch]'. You can also see the government agency responsible for this record in the `resp_agency_title` field.\n",
    "\n",
    "There are a number of other ways that entities wihin the Archival Control Model can be related to each other. See the full [ACM Policy document](https://prov.vic.gov.au/sites/default/files/files/Govt%20Services%20General/PROV_Archival_Control_Model_Policy.pdf) for a list of possible relationships. These connections between entities are documented in the `relatedEntity` category.\n",
    "\n",
    "*Consignments* are created when parts of a series are transferred to PROV. See the [Archival description for records transfer projects](https://prov.vic.gov.au/recordkeeping-government/transferring-records/archival-description-records-transfer-projects) page on the PROV website:\n",
    "\n",
    "> The entire contents of a series may not necessarily be transferred at the same time. A series may also be transferred to PROV in portions, known as consignments, over a number of years. A consignment comprises of record items belonging to the one series which are accessioned into the custody of PROV as part of the one transfer. A consignment may consist of the entirety of a series or only part of a series.\n",
    "\n",
    "*Images* don't seem to be formally defined anywhere, but they appear to be individual photos or pages belonging to a digitised item."
   ]
  },
  {
   "cell_type": "code",
   "execution_count": 9,
   "id": "c1ef47f1-48ff-4be7-a8ad-0048af8a2a52",
   "metadata": {},
   "outputs": [
    {
     "name": "stdout",
     "output_type": "stream",
     "text": [
      "https://api.prov.vic.gov.au/search/query?q=series_id%3A14517+AND+category%3ASeries\n"
     ]
    }
   ],
   "source": [
    "params = {\n",
    "    \"q\": \"series_id:14517 AND category:Series\",\n",
    "}\n",
    "response = requests.get(api_url, params=params)\n",
    "print(response.url)"
   ]
  },
  {
   "cell_type": "markdown",
   "id": "e43207cc-cc02-4322-88c1-e198b12aa453",
   "metadata": {},
   "source": [
    "## Searching within a specific category"
   ]
  },
  {
   "cell_type": "markdown",
   "id": "4876c542-e322-454e-b6ab-3e292aa9a263",
   "metadata": {},
   "source": [
    "To limit your search results to a specific category, set the `category` field in your query to one of the values described above. For example, if you only wanted government agencies, you'd add `category:Agency` to the `q` query string. To include multiple categories you can use the `OR` operator:\n",
    "\n",
    "- just items: `category:Item`\n",
    "- items and images: `category:Item OR category:Image`\n",
    "\n",
    "Here's how to request items only."
   ]
  },
  {
   "cell_type": "code",
   "execution_count": 203,
   "id": "fa56293a-a692-41a5-94aa-f88d39563c65",
   "metadata": {},
   "outputs": [
    {
     "name": "stdout",
     "output_type": "stream",
     "text": [
      "https://api.prov.vic.gov.au/search/query?q=category%3AItem\n",
      "\n",
      "There are 6,329,699 results.\n",
      "\n",
      "211/374 Leslie A Lamb: Will; Grant of probate\n",
      "215/936 Ellen Cahill: Will; Grant of probate\n",
      "215/981 Florence M Lovegrove: Will; Grant of probate\n",
      "211/107 Amelia Hawking: Will; Grant of probate\n",
      "215/980 William F Finchett: Will; Grant of probate\n",
      "215/979 George Wilson: Will; Grant of probate\n",
      "211/102 Bernard F Cragen: Will; Grant of probate\n",
      "211/221 Jonathan Coulson: Will; Grant of probate\n",
      "215/978 William E S Ockenden: Will; Grant of probate\n",
      "215/959 Otto Holst: Will; Grant of probate\n"
     ]
    }
   ],
   "source": [
    "params = {\n",
    "    \"q\": \"category:Item\"\n",
    "}\n",
    "response = requests.get(api_url, params=params)\n",
    "print(response.url)\n",
    "data = response.json()\n",
    "\n",
    "print(f\"\\nThere are {data['response']['numFound']:,} results.\\n\")\n",
    "\n",
    "for result in data[\"response\"][\"docs\"]:\n",
    "    print(result[\"title\"])"
   ]
  },
  {
   "cell_type": "markdown",
   "id": "efd0e9c3-81fa-4fb0-a072-1a0bd3683766",
   "metadata": {},
   "source": [
    "Compare the number of results to a request for items *or* images."
   ]
  },
  {
   "cell_type": "code",
   "execution_count": 16,
   "id": "a7597b8f-df07-4bb0-8317-23ec6d9354db",
   "metadata": {},
   "outputs": [
    {
     "name": "stdout",
     "output_type": "stream",
     "text": [
      "https://api.prov.vic.gov.au/search/query?q=category%3AItem+OR+category%3AImage\n",
      "\n",
      "There are 9,943,476 results.\n",
      "\n"
     ]
    }
   ],
   "source": [
    "params = {\n",
    "    \"q\": \"category:Item OR category:Image\"\n",
    "}\n",
    "response = requests.get(api_url, params=params)\n",
    "print(response.url)\n",
    "data = response.json()\n",
    "\n",
    "print(f\"\\nThere are {data['response']['numFound']:,} results.\\n\")"
   ]
  },
  {
   "cell_type": "code",
   "execution_count": null,
   "id": "10d7a6dc-e9ad-407a-aafd-b0d04a1a34c1",
   "metadata": {},
   "outputs": [],
   "source": []
  }
 ],
 "metadata": {
  "kernelspec": {
   "display_name": "Python 3 (ipykernel)",
   "language": "python",
   "name": "python3"
  },
  "language_info": {
   "codemirror_mode": {
    "name": "ipython",
    "version": 3
   },
   "file_extension": ".py",
   "mimetype": "text/x-python",
   "name": "python",
   "nbconvert_exporter": "python",
   "pygments_lexer": "ipython3",
   "version": "3.10.12"
  }
 },
 "nbformat": 4,
 "nbformat_minor": 5
}
