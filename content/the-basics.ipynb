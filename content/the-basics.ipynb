{
 "cells": [
  {
   "cell_type": "markdown",
   "id": "c05b1ef6-7c57-4942-b936-830c8598f5d2",
   "metadata": {},
   "source": [
    "# The basics"
   ]
  },
  {
   "cell_type": "code",
   "execution_count": 26,
   "id": "8da83483-257b-4476-8e9b-5b66edd692ca",
   "metadata": {},
   "outputs": [],
   "source": [
    "import requests\n",
    "import pandas as pd\n",
    "import altair as alt"
   ]
  },
  {
   "cell_type": "markdown",
   "id": "0488fc4a-0677-4e73-bcd7-f8696d9ad859",
   "metadata": {},
   "source": [
    "## A basic query that gets everything!\n",
    "\n",
    "The API endpoint is `https://api.prov.vic.gov.au/search/query`, though `search/select` also seems to work. I'm not sure if there's any difference between the two. I'll use `search/query` for now.\n",
    "\n",
    "There's only one compulsory parameter, `q`. To get everything (ie run a blank query), set `q` to `*:*`. So the simplest possible query is:"
   ]
  },
  {
   "cell_type": "code",
   "execution_count": 192,
   "id": "d068401d-eb8c-432d-a938-64f058548985",
   "metadata": {},
   "outputs": [
    {
     "name": "stdout",
     "output_type": "stream",
     "text": [
      "https://api.prov.vic.gov.au/search/query?q=%2A%3A%2A\n",
      "There are 10,137,514 results.\n"
     ]
    }
   ],
   "source": [
    "# /search/select also works, I'm not sure of the difference\n",
    "api_url = \"https://api.prov.vic.gov.au/search/query\"\n",
    "params = {\n",
    "    \"q\": \"*:*\",\n",
    "}\n",
    "response = requests.get(api_url, params=params)\n",
    "print(response.url)\n",
    "data = response.json()\n",
    "\n",
    "print(f\"There are {data['response']['numFound']:,} results.\")"
   ]
  },
  {
   "cell_type": "markdown",
   "id": "ff6dca36-0c34-4a38-a53b-f05eb8357b9c",
   "metadata": {},
   "source": [
    "The search results can be found in `response` -> `docs`. Let's try listing all the titles."
   ]
  },
  {
   "cell_type": "code",
   "execution_count": 193,
   "id": "6c8c0d04-fff7-44f7-96d2-ab8e9039cd1b",
   "metadata": {},
   "outputs": [
    {
     "name": "stdout",
     "output_type": "stream",
     "text": [
      "Admission and Discharge Register of Patients (Tuberculosis Sanatorium)\n",
      "Admission and Discharge Register of Patients (Hobson Park Hospital & Traralgon Psychiatric Hospital)\n",
      "Admission and Discharge Register of Patients (Traralgon Mental Hospital)\n",
      "Departmental  Cabinet-in-Confidence Working Records, Bracks-Brumby Government [Department of Primary Industries]\n",
      "Index to Admission and Discharge Register of Patients (Drug and Alcohol Rehabilitation)\n",
      "Case History Record Book\n",
      "Departmental Cabinet-in-Confidence Working Records, Bracks-Brumby Government [Department of Innovation, Industry and Regional Development]\n",
      "Admission and Discharge Register of Patients (Heatherton Hospital)\n",
      "Departmental Cabinet-in-Confidence Working Records, Bracks-Brumby Government [Department of Human Services]\n",
      "Infant Life Protection Register- Applications to Board Out Infants - State Ward and Non-Ward Infants\n"
     ]
    }
   ],
   "source": [
    "for result in data[\"response\"][\"docs\"]:\n",
    "    print(result[\"title\"])"
   ]
  },
  {
   "cell_type": "markdown",
   "id": "40e8822f-0143-4ceb-9995-6c8de1fc5293",
   "metadata": {},
   "source": [
    "By default the number of results returned by a query is 10. You can change this using the `rows` parameter."
   ]
  },
  {
   "cell_type": "code",
   "execution_count": 194,
   "id": "37b64850-5958-452b-a0c7-a8208ca7dd0c",
   "metadata": {},
   "outputs": [
    {
     "data": {
      "text/plain": [
       "10"
      ]
     },
     "execution_count": 194,
     "metadata": {},
     "output_type": "execute_result"
    }
   ],
   "source": [
    "# Default number of rows\n",
    "len(data[\"response\"][\"docs\"])"
   ]
  },
  {
   "cell_type": "code",
   "execution_count": 195,
   "id": "8bdf1b02-8aa0-428a-8fe5-be2ea8caed26",
   "metadata": {},
   "outputs": [
    {
     "name": "stdout",
     "output_type": "stream",
     "text": [
      "https://api.prov.vic.gov.au/search/query?q=%2A%3A%2A&rows=100\n"
     ]
    },
    {
     "data": {
      "text/plain": [
       "100"
      ]
     },
     "execution_count": 195,
     "metadata": {},
     "output_type": "execute_result"
    }
   ],
   "source": [
    "params = {\n",
    "    \"q\": \"*:*\",\n",
    "    \"rows\": 100\n",
    "}\n",
    "response = requests.get(api_url, params=params)\n",
    "print(response.url)\n",
    "data = response.json()\n",
    "\n",
    "len(data[\"response\"][\"docs\"])"
   ]
  },
  {
   "cell_type": "markdown",
   "id": "a65a9172-4308-4263-ba37-92b42d47fdef",
   "metadata": {},
   "source": [
    "## Text searches\n",
    "\n",
    "To search for words or phrases across multiple fields, just add them to the `q` parameter. If you include multiple keywords, they'll be treated as if they were connected by an `OR` operator. So a `q` value of `murray river` is the same as `murray OR river`."
   ]
  },
  {
   "cell_type": "code",
   "execution_count": 196,
   "id": "b49d5b2c-2d69-400d-91bb-3f9a1dbd5a5c",
   "metadata": {},
   "outputs": [
    {
     "name": "stdout",
     "output_type": "stream",
     "text": [
      "https://api.prov.vic.gov.au/search/query?q=murray+river\n",
      "There are 64,716 results.\n"
     ]
    }
   ],
   "source": [
    "params = {\n",
    "    \"q\": 'murray river',\n",
    "}\n",
    "response = requests.get(api_url, params=params)\n",
    "print(response.url)\n",
    "data = response.json()\n",
    "\n",
    "print(f\"There are {data['response']['numFound']:,} results.\")"
   ]
  },
  {
   "cell_type": "code",
   "execution_count": 197,
   "id": "d04aadf3-9446-4d2e-b5cb-ec36fd18bcd1",
   "metadata": {},
   "outputs": [
    {
     "name": "stdout",
     "output_type": "stream",
     "text": [
      "https://api.prov.vic.gov.au/search/query?q=murray+OR+river\n",
      "There are 64,716 results.\n"
     ]
    }
   ],
   "source": [
    "params = {\n",
    "    \"q\": 'murray OR river',\n",
    "}\n",
    "response = requests.get(api_url, params=params)\n",
    "print(response.url)\n",
    "data = response.json()\n",
    "\n",
    "print(f\"There are {data['response']['numFound']:,} results.\")"
   ]
  },
  {
   "cell_type": "markdown",
   "id": "be33d226-50a9-4979-a569-96d99fbed272",
   "metadata": {},
   "source": [
    "If you want only records containing both keywords, use the `AND` operator."
   ]
  },
  {
   "cell_type": "code",
   "execution_count": 198,
   "id": "d0ca52c3-20fe-440e-815a-41e5632ffe9f",
   "metadata": {},
   "outputs": [
    {
     "name": "stdout",
     "output_type": "stream",
     "text": [
      "https://api.prov.vic.gov.au/search/query?q=murray+AND+river\n",
      "There are 2,584 results.\n"
     ]
    }
   ],
   "source": [
    "params = {\n",
    "    \"q\": 'murray AND river',\n",
    "}\n",
    "response = requests.get(api_url, params=params)\n",
    "print(response.url)\n",
    "data = response.json()\n",
    "\n",
    "print(f\"There are {data['response']['numFound']:,} results.\")"
   ]
  },
  {
   "cell_type": "markdown",
   "id": "4edf0b90-f742-4fbb-a144-6d51283f1aad",
   "metadata": {},
   "source": [
    "To treat the keywords as a phrase, enclose them in quotes, eg `\"murray river\"`."
   ]
  },
  {
   "cell_type": "code",
   "execution_count": 199,
   "id": "d4b8c1d0-dae5-4a1e-bf97-5457c6830f2c",
   "metadata": {},
   "outputs": [
    {
     "name": "stdout",
     "output_type": "stream",
     "text": [
      "https://api.prov.vic.gov.au/search/query?q=%22murray+river%22\n",
      "There are 1,746 results.\n"
     ]
    }
   ],
   "source": [
    "params = {\n",
    "    \"q\": '\"murray river\"',\n",
    "}\n",
    "response = requests.get(api_url, params=params)\n",
    "print(response.url)\n",
    "data = response.json()\n",
    "\n",
    "print(f\"There are {data['response']['numFound']:,} results.\")"
   ]
  },
  {
   "cell_type": "markdown",
   "id": "8f00e202-02b1-4a2d-9d34-419fe2f765cc",
   "metadata": {},
   "source": [
    "Text fields are stemmed, so you generally don't need to worry about plurals and other word forms. For example a search for `box` will be the same as a search for `boxes`, `mine` will match `mining`, and `engine` will match `engineer`. There doesn't seem to be any way to search for an *exact* string, so there'll always be a bit of fuzziness.\n",
    "\n",
    "You can also use wildcards, fuzzy matches, and proximity searches. See the [Solr documentation for more information](https://solr.apache.org/guide/solr/latest/query-guide/standard-query-parser.html#specifying-terms-for-the-standard-query-parser). For example, a search for `\"gold mining\"` will return records that include the phrase \"gold mining\" (or \"gold mine\" because of word stemming). A search for `\"gold mining\"~10` will find records where `gold` and `mining` (or `mine`) occur wihin 10 words of each other."
   ]
  },
  {
   "cell_type": "code",
   "execution_count": 200,
   "id": "9801efe3-c83f-4b73-8ba2-e3b1a5d07e47",
   "metadata": {},
   "outputs": [
    {
     "name": "stdout",
     "output_type": "stream",
     "text": [
      "https://api.prov.vic.gov.au/search/query?q=%22gold+mining%22\n",
      "There are 3,908 results.\n"
     ]
    }
   ],
   "source": [
    "params = {\n",
    "    \"q\": '\"gold mining\"',\n",
    "}\n",
    "response = requests.get(api_url, params=params)\n",
    "print(response.url)\n",
    "data = response.json()\n",
    "\n",
    "print(f\"There are {data['response']['numFound']:,} results.\")"
   ]
  },
  {
   "cell_type": "code",
   "execution_count": 201,
   "id": "a45c888d-ced1-4f97-bfb3-a8033d98da27",
   "metadata": {},
   "outputs": [
    {
     "name": "stdout",
     "output_type": "stream",
     "text": [
      "https://api.prov.vic.gov.au/search/query?q=%22gold+mining%22~10\n",
      "There are 4,554 results.\n"
     ]
    }
   ],
   "source": [
    "params = {\n",
    "    \"q\": '\"gold mining\"~10',\n",
    "}\n",
    "response = requests.get(api_url, params=params)\n",
    "print(response.url)\n",
    "data = response.json()\n",
    "\n",
    "print(f\"There are {data['response']['numFound']:,} results.\")"
   ]
  },
  {
   "cell_type": "markdown",
   "id": "87a515a5-a858-4a9f-a3c1-6473eba9cfff",
   "metadata": {},
   "source": [
    "## Categories\n",
    "\n",
    "API results mix up different types of things – items, images, series, agencies, and functions. You can find out more by using facets to get a count of the values in the `category` field. To retrieve the facet counts, set the `facet` parameter to `true`, and `facet.field` to `category`."
   ]
  },
  {
   "cell_type": "code",
   "execution_count": 202,
   "id": "aeebee90-864a-4b64-baa6-a57ee1d60062",
   "metadata": {},
   "outputs": [
    {
     "name": "stdout",
     "output_type": "stream",
     "text": [
      "https://api.prov.vic.gov.au/search/query?q=%2A%3A%2A&facet=true&facet.field=category&rows=0\n"
     ]
    },
    {
     "data": {
      "text/html": [
       "<style type=\"text/css\">\n",
       "#T_7af35_row0_col1 {\n",
       "  width: 10em;\n",
       "  background: linear-gradient(90deg, #d65f5f 100.0%, transparent 100.0%);\n",
       "}\n",
       "#T_7af35_row1_col1 {\n",
       "  width: 10em;\n",
       "  background: linear-gradient(90deg, #d65f5f 57.1%, transparent 57.1%);\n",
       "}\n",
       "#T_7af35_row2_col1 {\n",
       "  width: 10em;\n",
       "  background: linear-gradient(90deg, #d65f5f 2.4%, transparent 2.4%);\n",
       "}\n",
       "#T_7af35_row3_col1 {\n",
       "  width: 10em;\n",
       "  background: linear-gradient(90deg, #d65f5f 0.4%, transparent 0.4%);\n",
       "}\n",
       "#T_7af35_row4_col1 {\n",
       "  width: 10em;\n",
       "  background: linear-gradient(90deg, #d65f5f 0.3%, transparent 0.3%);\n",
       "}\n",
       "#T_7af35_row5_col1, #T_7af35_row6_col1 {\n",
       "  width: 10em;\n",
       "  background: linear-gradient(90deg, #d65f5f 0.0%, transparent 0.0%);\n",
       "}\n",
       "</style>\n",
       "<table id=\"T_7af35\">\n",
       "  <thead>\n",
       "    <tr>\n",
       "      <th class=\"blank level0\" >&nbsp;</th>\n",
       "      <th id=\"T_7af35_level0_col0\" class=\"col_heading level0 col0\" >facet</th>\n",
       "      <th id=\"T_7af35_level0_col1\" class=\"col_heading level0 col1\" >count</th>\n",
       "    </tr>\n",
       "  </thead>\n",
       "  <tbody>\n",
       "    <tr>\n",
       "      <th id=\"T_7af35_level0_row0\" class=\"row_heading level0 row0\" >0</th>\n",
       "      <td id=\"T_7af35_row0_col0\" class=\"data row0 col0\" >Item</td>\n",
       "      <td id=\"T_7af35_row0_col1\" class=\"data row0 col1\" >6,329,699</td>\n",
       "    </tr>\n",
       "    <tr>\n",
       "      <th id=\"T_7af35_level0_row1\" class=\"row_heading level0 row1\" >1</th>\n",
       "      <td id=\"T_7af35_row1_col0\" class=\"data row1 col0\" >Image</td>\n",
       "      <td id=\"T_7af35_row1_col1\" class=\"data row1 col1\" >3,613,751</td>\n",
       "    </tr>\n",
       "    <tr>\n",
       "      <th id=\"T_7af35_level0_row2\" class=\"row_heading level0 row2\" >2</th>\n",
       "      <td id=\"T_7af35_row2_col0\" class=\"data row2 col0\" >relatedEntity</td>\n",
       "      <td id=\"T_7af35_row2_col1\" class=\"data row2 col1\" >150,066</td>\n",
       "    </tr>\n",
       "    <tr>\n",
       "      <th id=\"T_7af35_level0_row3\" class=\"row_heading level0 row3\" >3</th>\n",
       "      <td id=\"T_7af35_row3_col0\" class=\"data row3 col0\" >Consignment</td>\n",
       "      <td id=\"T_7af35_row3_col1\" class=\"data row3 col1\" >23,610</td>\n",
       "    </tr>\n",
       "    <tr>\n",
       "      <th id=\"T_7af35_level0_row4\" class=\"row_heading level0 row4\" >4</th>\n",
       "      <td id=\"T_7af35_row4_col0\" class=\"data row4 col0\" >Series</td>\n",
       "      <td id=\"T_7af35_row4_col1\" class=\"data row4 col1\" >16,930</td>\n",
       "    </tr>\n",
       "    <tr>\n",
       "      <th id=\"T_7af35_level0_row5\" class=\"row_heading level0 row5\" >5</th>\n",
       "      <td id=\"T_7af35_row5_col0\" class=\"data row5 col0\" >Agency</td>\n",
       "      <td id=\"T_7af35_row5_col1\" class=\"data row5 col1\" >3,137</td>\n",
       "    </tr>\n",
       "    <tr>\n",
       "      <th id=\"T_7af35_level0_row6\" class=\"row_heading level0 row6\" >6</th>\n",
       "      <td id=\"T_7af35_row6_col0\" class=\"data row6 col0\" >Function</td>\n",
       "      <td id=\"T_7af35_row6_col1\" class=\"data row6 col1\" >321</td>\n",
       "    </tr>\n",
       "  </tbody>\n",
       "</table>\n"
      ],
      "text/plain": [
       "<pandas.io.formats.style.Styler at 0x7d1b41787370>"
      ]
     },
     "execution_count": 202,
     "metadata": {},
     "output_type": "execute_result"
    }
   ],
   "source": [
    "params = {\n",
    "    \"q\": \"*:*\",\n",
    "    \"facet\": \"true\",\n",
    "    \"facet.field\": \"category\",\n",
    "    \"rows\": 0\n",
    "}\n",
    "response = requests.get(api_url, params=params)\n",
    "print(response.url)\n",
    "\n",
    "data = response.json()\n",
    "values = data[\"facet_counts\"][\"facet_fields\"][\"category\"]\n",
    "facets = [{\"facet\": values[i], \"count\": values[i+1]} for i in range(0, len(values), 2)]\n",
    "pd.DataFrame(facets).style.format(thousands=\",\").bar()"
   ]
  },
  {
   "cell_type": "markdown",
   "id": "5dab8fad-eb9a-4388-b894-85fea83c12a1",
   "metadata": {},
   "source": [
    "From https://prov.vic.gov.au/recordkeeping-government/a-z-topics/archival-control-model\n",
    "\n",
    "> Record Series: a group of records which are recorded or maintained by the same agency (or agencies) and which:\n",
    "> - are in the same numerical, alphabetical, chronological or other identifiable sequence;\n",
    "> - or result from the same accumulation or filing process.\n",
    "\n",
    "> Record Item: a discrete element [of] records managed within a ‘Series’. An Item represents a part of a recordkeeping system or a logical or convenient grouping of records. It may represent one record or multiple records such as a group of folios fastened together to form a file, a group of electronic files aggregated in a folder, or a single volume.\n",
    "\n",
    "> The function entity in PROV’s ACM represents the major responsibilities of Victorian Government that may be managed by one or more agencies over time. Applying this entity helps to:\n",
    "> - group together various records with the same administrative record context\n",
    "> - links records to their provenance and complementary information.\n",
    "\n",
    "> The agent entity in PROV’s ACM represents a Victorian Government agency—an administrative unit which has or had responsibility for the provision of at least one aspect of government administration. This entity helps to provide a description of a record’s context, namely who created the records and for what purpose.\n",
    "\n",
    "From https://prov.vic.gov.au/recordkeeping-government/transferring-records/archival-description-records-transfer-projects\n",
    "> The entire contents of a series may not necessarily be transferred at the same time. A series may also be transferred to PROV in portions, known as consignments, over a number of years. A consignment comprises of record items belonging to the one series which are accessioned into the custody of PROV as part of the one transfer. A consignment may consist of the entirety of a series or only part of a series.\n",
    "\n",
    "Relationships are described in ACM: https://prov.vic.gov.au/sites/default/files/files/Govt%20Services%20General/PROV_Archival_Control_Model_Policy.pdf"
   ]
  },
  {
   "cell_type": "markdown",
   "id": "4876c542-e322-454e-b6ab-3e292aa9a263",
   "metadata": {},
   "source": [
    "To limit your results to a specific category, set the `category` field to one of these values in your query. For example, if you only wanted agencies, you'd add `category:Agency` to the `q` query string. To include multiple categories you can use the `OR` operator:\n",
    "\n",
    "- just items: `category:Item`\n",
    "- items and images: `category:Item OR category:Image`"
   ]
  },
  {
   "cell_type": "code",
   "execution_count": 203,
   "id": "fa56293a-a692-41a5-94aa-f88d39563c65",
   "metadata": {},
   "outputs": [
    {
     "name": "stdout",
     "output_type": "stream",
     "text": [
      "https://api.prov.vic.gov.au/search/query?q=category%3AItem\n",
      "\n",
      "There are 6,329,699 results.\n",
      "\n",
      "211/374 Leslie A Lamb: Will; Grant of probate\n",
      "215/936 Ellen Cahill: Will; Grant of probate\n",
      "215/981 Florence M Lovegrove: Will; Grant of probate\n",
      "211/107 Amelia Hawking: Will; Grant of probate\n",
      "215/980 William F Finchett: Will; Grant of probate\n",
      "215/979 George Wilson: Will; Grant of probate\n",
      "211/102 Bernard F Cragen: Will; Grant of probate\n",
      "211/221 Jonathan Coulson: Will; Grant of probate\n",
      "215/978 William E S Ockenden: Will; Grant of probate\n",
      "215/959 Otto Holst: Will; Grant of probate\n"
     ]
    }
   ],
   "source": [
    "params = {\n",
    "    \"q\": \"category:Item\"\n",
    "}\n",
    "response = requests.get(api_url, params=params)\n",
    "print(response.url)\n",
    "data = response.json()\n",
    "\n",
    "print(f\"\\nThere are {data['response']['numFound']:,} results.\\n\")\n",
    "\n",
    "for result in data[\"response\"][\"docs\"]:\n",
    "    print(result[\"title\"])"
   ]
  },
  {
   "cell_type": "code",
   "execution_count": 204,
   "id": "a7597b8f-df07-4bb0-8317-23ec6d9354db",
   "metadata": {},
   "outputs": [
    {
     "name": "stdout",
     "output_type": "stream",
     "text": [
      "https://api.prov.vic.gov.au/search/query?q=category%3AItem+OR+category%3AImage\n",
      "\n",
      "There are 9,943,450 results.\n",
      "\n"
     ]
    }
   ],
   "source": [
    "params = {\n",
    "    \"q\": \"category:Item OR category:Image\"\n",
    "}\n",
    "response = requests.get(api_url, params=params)\n",
    "print(response.url)\n",
    "data = response.json()\n",
    "\n",
    "print(f\"\\nThere are {data['response']['numFound']:,} results.\\n\")"
   ]
  },
  {
   "cell_type": "markdown",
   "id": "8fe5801b-27f0-4877-b5c8-73531d41e3af",
   "metadata": {},
   "source": [
    "## Using other fields\n",
    "\n",
    "### Items and images in a particular series\n",
    "\n"
   ]
  },
  {
   "cell_type": "markdown",
   "id": "82d7995d-016b-4cac-aa11-8a5abad1638f",
   "metadata": {},
   "source": [
    "## Indexes"
   ]
  },
  {
   "cell_type": "markdown",
   "id": "42ac214e-047d-454c-b016-810e710fd6c5",
   "metadata": {},
   "source": [
    "series by id: `(series_id:(283))`"
   ]
  },
  {
   "cell_type": "markdown",
   "id": "514a7938-bd5d-46c8-83af-363fffe15362",
   "metadata": {},
   "source": [
    "- `series_id`\n",
    "- `record_form` – possible values:\n",
    "  - Card\n",
    "  - Data\n",
    "  - Document\n",
    "  - File\n",
    "  - Map, Plan, or Drawing\n",
    "  - Moving Image\n",
    "  - Object\n",
    "  - Photograph or Image\n",
    "  - Sound Recording\n",
    "  - Volume\n",
    "  - Website\n",
    "- `start_dt` – date range, eg: `[2025-03-03 TO *]`\n",
    "- `end_dt` – date range, eg: `[* TO 2025-03-03]`\n",
    "- `iiif-manifest` – set to `(*)`\n",
    "- `category` – possible values:\n",
    "  - Agency\n",
    "  - Consignment\n",
    "  - Function\n",
    "  - Image\n",
    "  - Item\n",
    "  - Series\n",
    "  - relatedEntity\n",
    "- `location` – possible values:\n",
    "  - Ballarat\n",
    "  - Beechworth\n",
    "  - Bendigo\n",
    "  - Geelong\n",
    "  - North Melbourne\n",
    "  - Online\n",
    "- `format` – possible values:\n",
    "  - Digital\n",
    "  - Physical\n",
    "- `rights_status` – posible values:\n",
    "  - Closed\n",
    "  - Closed Record and Open Metadata\n",
    "  - Not set\n",
    "  - Open\n",
    "- `medium` – possible values:\n",
    "  - 16mm\n",
    "  - 8 mm\n",
    "  - Album\n",
    "  - Blueprint\n",
    "  - Bolted\n",
    "  - Cardboard\n",
    "  - Cassette Tape\n",
    "  - Compact Disc (CD)\n",
    "  - Drafting Cloth (Linen)\n",
    "  - Floppy Disk\n",
    "  - Glass Plate Negative\n",
    "  - Kalamazoo\n",
    "  - Lantern Slide\n",
    "  - Loose\n",
    "  - Magnetic Media\n",
    "  - Microfiche\n",
    "  - Microform\n",
    "  - Motion Picture Film\n",
    "  - Mounted\n",
    "  - Negative, Slide or Transparency\n",
    "  - Not Set\n",
    "  - Object\n",
    "  - Paper\n",
    "  - Photographic Print\n",
    "  - Plastic Film\n",
    "  - Polyester Negative\n",
    "  - Sleeved\n",
    "  - Synthetic\n",
    "  - Tracing/Offset\n",
    "  - VHS\n",
    "  - Vellum or Parchment\n",
    "  - Vinyl Disc\n",
    "  - Volume\n",
    "  - Wood"
   ]
  },
  {
   "cell_type": "markdown",
   "id": "2c7de537-ca58-4f52-9786-c2bc15ba9500",
   "metadata": {},
   "source": [
    "## Facets\n",
    "\n",
    "- record_form\n",
    "- entity\n",
    "- category\n",
    "- format\n",
    "- location\n",
    "- rights_status\n",
    "- medium\n",
    "- parents.titles\n",
    "- parents.id\n",
    "- is_part_of_series.title\n",
    "- is_part_of_series.id\n",
    "- agencies.titles\n",
    "- agencies.id\n",
    "- possibly others\n",
    "\n",
    "Note that fields with text values (like description) are often tokenised and stemmed, so are not very useful as facets\n",
    "\n",
    "For facets, need to set `facet=true` and specify the field using `facet.field`.\n",
    "\n",
    "https://api.prov.vic.gov.au/search/query?wt=json&q*:*&facet=true&facet.field=location&rows=0"
   ]
  },
  {
   "cell_type": "code",
   "execution_count": null,
   "id": "58c83b8a-2e81-4d0b-9d5d-83896eac1317",
   "metadata": {},
   "outputs": [],
   "source": [
    "https://api.prov.vic.gov.au/search/query?wt=json&q=*:*&facet=true&facet.field=rights_status&rows=0"
   ]
  },
  {
   "cell_type": "code",
   "execution_count": 24,
   "id": "7c212a1e-0b04-4987-8b84-d85e2a6ceb4b",
   "metadata": {},
   "outputs": [],
   "source": [
    "def get_facets(field):\n",
    "    url = f\"https://api.prov.vic.gov.au/search/query?wt=json&q=*:*&facet=true&facet.field={field}&rows=0\"\n",
    "    response = requests.get(url)\n",
    "    data = response.json()\n",
    "    values = data[\"facet_counts\"][\"facet_fields\"][field]\n",
    "    return [{\"facet\": values[i], \"count\": values[i+1]} for i in range(0, len(values), 2)]"
   ]
  },
  {
   "cell_type": "code",
   "execution_count": 97,
   "id": "e8297975-cc05-4bb8-9fdb-69b432f6a1a3",
   "metadata": {},
   "outputs": [
    {
     "name": "stdout",
     "output_type": "stream",
     "text": [
      "16mm\n",
      "8 mm\n",
      "Album\n",
      "Blueprint\n",
      "Bolted\n",
      "Cardboard\n",
      "Cassette Tape\n",
      "Compact Disc (CD)\n",
      "Drafting Cloth (Linen)\n",
      "Floppy Disk\n",
      "Glass Plate Negative\n",
      "Kalamazoo\n",
      "Lantern Slide\n",
      "Loose\n",
      "Magnetic Media\n",
      "Microfiche\n",
      "Microform\n",
      "Motion Picture Film\n",
      "Mounted\n",
      "Negative, Slide or Transparency\n",
      "Not Set\n",
      "Object\n",
      "Paper\n",
      "Photographic Print\n",
      "Plastic Film\n",
      "Polyester Negative\n",
      "Sleeved\n",
      "Synthetic\n",
      "Tracing/Offset\n",
      "VHS\n",
      "Vellum or Parchment\n",
      "Vinyl Disc\n",
      "Volume\n",
      "Wood\n"
     ]
    }
   ],
   "source": [
    "print(\"\\n\".join(sorted([f[\"facet\"] for f in get_facets(\"medium\")])))"
   ]
  },
  {
   "cell_type": "code",
   "execution_count": 80,
   "id": "d4981637-7578-4b21-8fd3-cf5c73f96811",
   "metadata": {},
   "outputs": [],
   "source": [
    "def make_facet_chart(field):\n",
    "    facets = get_facets(field)\n",
    "    df = pd.DataFrame(facets)\n",
    "    chart = alt.Chart(df).mark_bar().encode(\n",
    "        x=alt.X(\"facet:N\", title=None),\n",
    "        y=alt.Y(\"count:Q\"),\n",
    "        color=alt.Color(\"facet:N\", title=field, legend=None),\n",
    "        tooltip = [alt.Tooltip(\"facet\", title=field), alt.Tooltip(\"count\", format=\",\")]\n",
    "    ).properties(width=200, height=200, title=field)\n",
    "    return chart"
   ]
  },
  {
   "cell_type": "code",
   "execution_count": 86,
   "id": "05ebcd00-ef73-4729-94c5-a3d37045a799",
   "metadata": {},
   "outputs": [
    {
     "data": {
      "text/html": [
       "\n",
       "<style>\n",
       "  #altair-viz-84ee0983f15b44efb33ab93f4f751758.vega-embed {\n",
       "    width: 100%;\n",
       "    display: flex;\n",
       "  }\n",
       "\n",
       "  #altair-viz-84ee0983f15b44efb33ab93f4f751758.vega-embed details,\n",
       "  #altair-viz-84ee0983f15b44efb33ab93f4f751758.vega-embed details summary {\n",
       "    position: relative;\n",
       "  }\n",
       "</style>\n",
       "<div id=\"altair-viz-84ee0983f15b44efb33ab93f4f751758\"></div>\n",
       "<script type=\"text/javascript\">\n",
       "  var VEGA_DEBUG = (typeof VEGA_DEBUG == \"undefined\") ? {} : VEGA_DEBUG;\n",
       "  (function(spec, embedOpt){\n",
       "    let outputDiv = document.currentScript.previousElementSibling;\n",
       "    if (outputDiv.id !== \"altair-viz-84ee0983f15b44efb33ab93f4f751758\") {\n",
       "      outputDiv = document.getElementById(\"altair-viz-84ee0983f15b44efb33ab93f4f751758\");\n",
       "    }\n",
       "\n",
       "    const paths = {\n",
       "      \"vega\": \"https://cdn.jsdelivr.net/npm/vega@5?noext\",\n",
       "      \"vega-lib\": \"https://cdn.jsdelivr.net/npm/vega-lib?noext\",\n",
       "      \"vega-lite\": \"https://cdn.jsdelivr.net/npm/vega-lite@5.20.1?noext\",\n",
       "      \"vega-embed\": \"https://cdn.jsdelivr.net/npm/vega-embed@6?noext\",\n",
       "    };\n",
       "\n",
       "    function maybeLoadScript(lib, version) {\n",
       "      var key = `${lib.replace(\"-\", \"\")}_version`;\n",
       "      return (VEGA_DEBUG[key] == version) ?\n",
       "        Promise.resolve(paths[lib]) :\n",
       "        new Promise(function(resolve, reject) {\n",
       "          var s = document.createElement('script');\n",
       "          document.getElementsByTagName(\"head\")[0].appendChild(s);\n",
       "          s.async = true;\n",
       "          s.onload = () => {\n",
       "            VEGA_DEBUG[key] = version;\n",
       "            return resolve(paths[lib]);\n",
       "          };\n",
       "          s.onerror = () => reject(`Error loading script: ${paths[lib]}`);\n",
       "          s.src = paths[lib];\n",
       "        });\n",
       "    }\n",
       "\n",
       "    function showError(err) {\n",
       "      outputDiv.innerHTML = `<div class=\"error\" style=\"color:red;\">${err}</div>`;\n",
       "      throw err;\n",
       "    }\n",
       "\n",
       "    function displayChart(vegaEmbed) {\n",
       "      vegaEmbed(outputDiv, spec, embedOpt)\n",
       "        .catch(err => showError(`Javascript Error: ${err.message}<br>This usually means there's a typo in your chart specification. See the javascript console for the full traceback.`));\n",
       "    }\n",
       "\n",
       "    if(typeof define === \"function\" && define.amd) {\n",
       "      requirejs.config({paths});\n",
       "      let deps = [\"vega-embed\"];\n",
       "      require(deps, displayChart, err => showError(`Error loading script: ${err.message}`));\n",
       "    } else {\n",
       "      maybeLoadScript(\"vega\", \"5\")\n",
       "        .then(() => maybeLoadScript(\"vega-lite\", \"5.20.1\"))\n",
       "        .then(() => maybeLoadScript(\"vega-embed\", \"6\"))\n",
       "        .catch(showError)\n",
       "        .then(() => displayChart(vegaEmbed));\n",
       "    }\n",
       "  })({\"config\": {\"view\": {\"continuousWidth\": 300, \"continuousHeight\": 300}}, \"concat\": [{\"data\": {\"name\": \"data-d1718ece6b2e62f7ea2469851005a9fb\"}, \"mark\": {\"type\": \"bar\"}, \"encoding\": {\"color\": {\"field\": \"facet\", \"legend\": null, \"title\": \"category\", \"type\": \"nominal\"}, \"tooltip\": [{\"field\": \"facet\", \"title\": \"category\", \"type\": \"nominal\"}, {\"field\": \"count\", \"format\": \",\", \"type\": \"quantitative\"}], \"x\": {\"field\": \"facet\", \"title\": null, \"type\": \"nominal\"}, \"y\": {\"field\": \"count\", \"type\": \"quantitative\"}}, \"height\": 200, \"title\": \"category\", \"width\": 200}, {\"data\": {\"name\": \"data-890e1db9ca344ee0cff53b788851fbcc\"}, \"mark\": {\"type\": \"bar\"}, \"encoding\": {\"color\": {\"field\": \"facet\", \"legend\": null, \"title\": \"entity\", \"type\": \"nominal\"}, \"tooltip\": [{\"field\": \"facet\", \"title\": \"entity\", \"type\": \"nominal\"}, {\"field\": \"count\", \"format\": \",\", \"type\": \"quantitative\"}], \"x\": {\"field\": \"facet\", \"title\": null, \"type\": \"nominal\"}, \"y\": {\"field\": \"count\", \"type\": \"quantitative\"}}, \"height\": 200, \"title\": \"entity\", \"width\": 200}, {\"data\": {\"name\": \"data-62e6f90907f24d44827fbedd9f8884e1\"}, \"mark\": {\"type\": \"bar\"}, \"encoding\": {\"color\": {\"field\": \"facet\", \"legend\": null, \"title\": \"record_form\", \"type\": \"nominal\"}, \"tooltip\": [{\"field\": \"facet\", \"title\": \"record_form\", \"type\": \"nominal\"}, {\"field\": \"count\", \"format\": \",\", \"type\": \"quantitative\"}], \"x\": {\"field\": \"facet\", \"title\": null, \"type\": \"nominal\"}, \"y\": {\"field\": \"count\", \"type\": \"quantitative\"}}, \"height\": 200, \"title\": \"record_form\", \"width\": 200}, {\"data\": {\"name\": \"data-c8b4ee826aa7847cad46457ca47db09a\"}, \"mark\": {\"type\": \"bar\"}, \"encoding\": {\"color\": {\"field\": \"facet\", \"legend\": null, \"title\": \"format\", \"type\": \"nominal\"}, \"tooltip\": [{\"field\": \"facet\", \"title\": \"format\", \"type\": \"nominal\"}, {\"field\": \"count\", \"format\": \",\", \"type\": \"quantitative\"}], \"x\": {\"field\": \"facet\", \"title\": null, \"type\": \"nominal\"}, \"y\": {\"field\": \"count\", \"type\": \"quantitative\"}}, \"height\": 200, \"title\": \"format\", \"width\": 200}, {\"data\": {\"name\": \"data-f74a9da414d72580bc5eb8653ccd3620\"}, \"mark\": {\"type\": \"bar\"}, \"encoding\": {\"color\": {\"field\": \"facet\", \"legend\": null, \"title\": \"location\", \"type\": \"nominal\"}, \"tooltip\": [{\"field\": \"facet\", \"title\": \"location\", \"type\": \"nominal\"}, {\"field\": \"count\", \"format\": \",\", \"type\": \"quantitative\"}], \"x\": {\"field\": \"facet\", \"title\": null, \"type\": \"nominal\"}, \"y\": {\"field\": \"count\", \"type\": \"quantitative\"}}, \"height\": 200, \"title\": \"location\", \"width\": 200}, {\"data\": {\"name\": \"data-ccf3f2268700e00b0876e8a7883be976\"}, \"mark\": {\"type\": \"bar\"}, \"encoding\": {\"color\": {\"field\": \"facet\", \"legend\": null, \"title\": \"rights_status\", \"type\": \"nominal\"}, \"tooltip\": [{\"field\": \"facet\", \"title\": \"rights_status\", \"type\": \"nominal\"}, {\"field\": \"count\", \"format\": \",\", \"type\": \"quantitative\"}], \"x\": {\"field\": \"facet\", \"title\": null, \"type\": \"nominal\"}, \"y\": {\"field\": \"count\", \"type\": \"quantitative\"}}, \"height\": 200, \"title\": \"rights_status\", \"width\": 200}], \"columns\": 3, \"padding\": 20, \"$schema\": \"https://vega.github.io/schema/vega-lite/v5.20.1.json\", \"datasets\": {\"data-d1718ece6b2e62f7ea2469851005a9fb\": [{\"facet\": \"Item\", \"count\": 6327328}, {\"facet\": \"Image\", \"count\": 3613751}, {\"facet\": \"relatedEntity\", \"count\": 149554}, {\"facet\": \"Consignment\", \"count\": 23602}, {\"facet\": \"Series\", \"count\": 16924}, {\"facet\": \"Agency\", \"count\": 3135}, {\"facet\": \"Function\", \"count\": 321}], \"data-890e1db9ca344ee0cff53b788851fbcc\": [{\"facet\": \"Record\", \"count\": 6367854}, {\"facet\": \"Agent\", \"count\": 3135}, {\"facet\": \"Function\", \"count\": 321}], \"data-62e6f90907f24d44827fbedd9f8884e1\": [{\"facet\": \"File\", \"count\": 3884553}, {\"facet\": \"Document\", \"count\": 1501855}, {\"facet\": \"Map, Plan, or Drawing\", \"count\": 318136}, {\"facet\": \"Volume\", \"count\": 147084}, {\"facet\": \"Photograph or Image\", \"count\": 86837}, {\"facet\": \"Card\", \"count\": 11639}, {\"facet\": \"Moving Image\", \"count\": 7739}, {\"facet\": \"Data\", \"count\": 1821}, {\"facet\": \"Object\", \"count\": 337}, {\"facet\": \"Sound Recording\", \"count\": 82}, {\"facet\": \"Website\", \"count\": 2}], \"data-c8b4ee826aa7847cad46457ca47db09a\": [{\"facet\": \"Physical\", \"count\": 6303799}, {\"facet\": \"Digital\", \"count\": 61184}], \"data-f74a9da414d72580bc5eb8653ccd3620\": [{\"facet\": \"North Melbourne\", \"count\": 9925810}, {\"facet\": \"Online\", \"count\": 4590883}, {\"facet\": \"Ballarat\", \"count\": 30061}, {\"facet\": \"Bendigo\", \"count\": 3697}, {\"facet\": \"Geelong\", \"count\": 918}, {\"facet\": \"Beechworth\", \"count\": 394}], \"data-ccf3f2268700e00b0876e8a7883be976\": [{\"facet\": \"Open\", \"count\": 6368345}, {\"facet\": \"Closed Record and Open Metadata\", \"count\": 28171}, {\"facet\": \"Closed\", \"count\": 13128}, {\"facet\": \"Not set\", \"count\": 6145}]}}, {\"mode\": \"vega-lite\"});\n",
       "</script>"
      ],
      "text/plain": [
       "alt.ConcatChart(...)"
      ]
     },
     "metadata": {},
     "output_type": "display_data"
    }
   ],
   "source": [
    "charts = []\n",
    "for field in [\"category\", \"entity\", \"record_form\", \"format\", \"location\", \"rights_status\"]:\n",
    "   charts.append(make_facet_chart(field))\n",
    "display(alt.concat(*charts, columns=3).properties(padding=20))"
   ]
  },
  {
   "cell_type": "code",
   "execution_count": null,
   "id": "c2c0a1c7-7975-405b-8b8e-8dcf2390e3b9",
   "metadata": {},
   "outputs": [],
   "source": []
  },
  {
   "cell_type": "code",
   "execution_count": 100,
   "id": "b5bf1886-7aaf-43ba-bff3-05aa2dbf0633",
   "metadata": {},
   "outputs": [],
   "source": [
    "response = requests.get(\"https://api.prov.vic.gov.au/search/query?wt=json&q=category:Agency\")"
   ]
  },
  {
   "cell_type": "code",
   "execution_count": 101,
   "id": "9a88c6a2-2b53-4917-8736-0755f98eb1dc",
   "metadata": {},
   "outputs": [
    {
     "data": {
      "text/plain": [
       "{'responseHeader': {'status': 0,\n",
       "  'QTime': 0,\n",
       "  'params': {'q': 'category:Agency', 'wt': 'json'}},\n",
       " 'response': {'numFound': 3136,\n",
       "  'start': 0,\n",
       "  'docs': [{'category': 'Agency',\n",
       "    'entity': 'Agent',\n",
       "    '_id': 'F6E388C2-F1A7-11E9-AE98-B368FE166A06',\n",
       "    'timestamp': 1614747820,\n",
       "    'identifier.PROV_ACM.id': 'VA 421',\n",
       "    'citation': 'VA 421',\n",
       "    'identifier.PID.id': 'F6E388C2-F1A7-11E9-AE98-B368FE166A06',\n",
       "    'title': 'Ministry for Police and Emergency Services',\n",
       "    'name.official_title.date_range': '[1979 TO 1992]',\n",
       "    'name.official_title.start_dt': '1979',\n",
       "    'name.official_title.end_dt': '1992',\n",
       "    'name.official_title.title': 'Ministry for Police and Emergency Services',\n",
       "    'date_range': ['[1979 TO 1992]'],\n",
       "    'start_dt': '1979',\n",
       "    'end_dt': '1992',\n",
       "    'jurisdictional_coverage': ['Victoria'],\n",
       "    'description': \"The Ministry for Police and Emergency Services was established in July 1979 and assumed a co-ordinating and policy development role in relation to the police and emergency services functions of the Chief Secretary's Department (VA 475).<br/><br/>Following significant machinery of government changes after the election of the first Kennett Government in October 1992, the Ministry for Police and Emergency Services was abolished. Under Administrative Arrangements Order No.114 the Department of Justice assumed responsibility for functions of the Ministry.<br/><br/>Functions included:<br/><br/>law enforcement and policing in Victoria (including motor registration to 1981)<br/>planning, organising, co-ordinating and implementing measures designed to guard against or minimise the effects of emergencies harmful to life, health or property<br/>the prevention and suppression of fires in the Melbourne metropolitan area and in the country areas of Victoria<br/>co-ordinating arrangements where interaction between police, emergency and fire-fighting services is necessary<br/>traffic management and road safety (to 1981)<br/>registration of  agents.<br/><br/>A number of major statutory authorities have had operational responsibility for these functions, including the Victoria Police Force (VA 724), the Metropolitan Fire Brigade (VA 483), Country Fire Authority (VA 482), Victoria State Emergency Service, and Road Safety and Traffic Authority (VA 487).<br/>Responsibilities for the co-ordination of traffic management, road safety, motor registration and driver licensing passed to the Ministry of Transport (VA 673) in 1981.<br/><br/>Community Council Against Violence<br/><br/>The Community Council Against Violence was established in 1989 to provide advice to the Government about violence in the community. As part of machinery of government changes announced in January 1991 responsibility for the Council passed to the Department of the Premier and Cabinet (VA 1039).<br/><br/>Location of Records<br/><br/>See List of Holdings 2nd edition, 1985, section 3.16.0.<br/><br/><br/>\",\n",
       "    'status': 'Published',\n",
       "    '_version_': 1816043472159768576},\n",
       "   {'category': 'Agency',\n",
       "    'entity': 'Agent',\n",
       "    '_id': 'F6E53673-F1A7-11E9-AE98-C1069F463248',\n",
       "    'timestamp': 1614747820,\n",
       "    'identifier.PROV_ACM.id': 'VA 422',\n",
       "    'citation': 'VA 422',\n",
       "    'identifier.PID.id': 'F6E53673-F1A7-11E9-AE98-C1069F463248',\n",
       "    'title': 'Caulfield Courts',\n",
       "    'name.official_title.date_range': '[1888 TO 1958]',\n",
       "    'name.official_title.start_dt': '1888',\n",
       "    'name.official_title.end_dt': '1958',\n",
       "    'name.official_title.title': 'Caulfield Courts',\n",
       "    'date_range': ['[1888 TO 1958]'],\n",
       "    'start_dt': '1888',\n",
       "    'end_dt': '1958',\n",
       "    'jurisdictional_coverage': ['Victoria'],\n",
       "    'description': \"Caulfield Courts includes:<br/><br/>Court of Petty Sessions/Magistrates' Courts by 1888 to 1958<br/>Children's Court by 1912 to ?1941<br/><br/>Location of Records<br/><br/>For records of this agency, see list of series below.\",\n",
       "    'status': 'Published',\n",
       "    '_version_': 1816043472160817152},\n",
       "   {'category': 'Agency',\n",
       "    'entity': 'Agent',\n",
       "    '_id': 'F6E70B34-F1A7-11E9-AE98-E119B1AA96A2',\n",
       "    'timestamp': 1614747820,\n",
       "    'identifier.PROV_ACM.id': 'VA 423',\n",
       "    'citation': 'VA 423',\n",
       "    'identifier.PID.id': 'F6E70B34-F1A7-11E9-AE98-E119B1AA96A2',\n",
       "    'title': 'Elsternwick Courts',\n",
       "    'name.official_title.date_range': '[1958 TO 1985]',\n",
       "    'name.official_title.start_dt': '1958',\n",
       "    'name.official_title.end_dt': '1985',\n",
       "    'name.official_title.title': 'Elsternwick Courts',\n",
       "    'date_range': ['[1958 TO 1985]'],\n",
       "    'start_dt': '1958',\n",
       "    'end_dt': '1985',\n",
       "    'jurisdictional_coverage': ['Victoria'],\n",
       "    'description': \"Elsternwick Courts includes:<br/><br/>Court of Petty Sessions/Magistrates' Courts by 1958 to 1985.\",\n",
       "    'status': 'Published',\n",
       "    '_version_': 1816043472161865728},\n",
       "   {'category': 'Agency',\n",
       "    'entity': 'Agent',\n",
       "    '_id': 'F6EA6696-F1A7-11E9-AE98-63358A436BAB',\n",
       "    'timestamp': 1614747820,\n",
       "    'identifier.PROV_ACM.id': 'VA 426',\n",
       "    'citation': 'VA 426',\n",
       "    'identifier.PID.id': 'F6EA6696-F1A7-11E9-AE98-63358A436BAB',\n",
       "    'title': 'Geelong Regional Commission',\n",
       "    'name.official_title.date_range': '[1977 TO 1993]',\n",
       "    'name.official_title.start_dt': '1977',\n",
       "    'name.official_title.end_dt': '1993',\n",
       "    'name.official_title.title': 'Geelong Regional Commission',\n",
       "    'date_range': ['[1977 TO 1993]'],\n",
       "    'start_dt': '1977',\n",
       "    'end_dt': '1993',\n",
       "    'jurisdictional_coverage': ['Victoria'],\n",
       "    'description': \"The Geelong Regional Commission was established in 1977 under the Geelong Regional Commission Act 1977.  It came into operation on 1 August 1977 (with the first meeting held 12 August 1977) as the successor to the Geelong Regional Planning Authority (VA 2830).  It's creation gave effect to the State Government's decentralisation policies and, in particular, Statement of Planning Policy No.7 (Geelong), which received Governor-in-Council approval in August 1973.<br/><br/>Under the Act, the Commission was responsible to the Minister for State Development and Decentralisation (VRG 51) except in respect of the Commission's statutory planning functions under the Town and Country Planning Act for which it was responsible to the Minister for Planning (VRG 65).<br/><br/>The Commission consists of fourteen members, five appointed by the Governor-in-Council and one appointed from each municipality in the Geelong area, namely the:<br/>City of Geelong<br/>City of Geelong West<br/>City of Newtown<br/>City of South Barwon<br/>Borough of Queenscliffe<br/>Shire of Bannockburn<br/>Shire of Barrabool<br/>Shire of Bellarine<br/>Shire of Corio.<br/><br/>Following the proclamation of the City of Greater Geelong Act 1993 (No. 16/1993) on 18 May 1993 the Geelong Regional Commission was abolished.<br/><br/>The City of Greater Geelong was constituted under Part 2 of the Act; the boundaries of the city were described in Schedule 1 (of the Act).  The Greater Geelong City Council was the successor in law of the former councils subsumed in its creation.  Commissioners were to be appointed under Section 7 of the Act.<br/><br/>Under Part 3 of the Act, the boundaries of the Shire of Bannockburn were fixed and described in Schedule 2.<br/><br/>Under Part 4 of the Act, the boundaries of the Shire of Barrabool were fixed and described in Schedule 3.<br/><br/>The Act includes a section (Section 23) to enable the implementation of plans devised under the Geelong Regional Planning Scheme.  Each of the municipal districts of the Greater Geelong City Council, the Shire of Bannockburn, the Borough of Queenscliffe, and the Barrabool Shire Council were to become a planning authority  in relation to the planning scheme applying in its municipal district.\",\n",
       "    'status': 'Published',\n",
       "    '_version_': 1816043472162914304},\n",
       "   {'category': 'Agency',\n",
       "    'entity': 'Agent',\n",
       "    '_id': 'F6EDE908-F1A7-11E9-AE98-4B3747D0CAAB',\n",
       "    'timestamp': 1614747820,\n",
       "    'identifier.PROV_ACM.id': 'VA 428',\n",
       "    'citation': 'VA 428',\n",
       "    'identifier.PID.id': 'F6EDE908-F1A7-11E9-AE98-4B3747D0CAAB',\n",
       "    'title': 'Registry of Estate Agents',\n",
       "    'name.official_title.date_range': '[1956 TO 1980]',\n",
       "    'name.official_title.start_dt': '1956',\n",
       "    'name.official_title.end_dt': '1980',\n",
       "    'name.official_title.title': 'Registry of Estate Agents',\n",
       "    'date_range': ['[1956 TO 1980]'],\n",
       "    'start_dt': '1956',\n",
       "    'end_dt': '1980',\n",
       "    'jurisdictional_coverage': ['Victoria'],\n",
       "    'description': 'The office of the Registrar of Estate Agents was constituted under the Estate Agents Act 1956.  It was responsible for the licensing of persons as estate agents, money lenders and finance brokers and also investigated complaints from the public and other matters contravening the provisions of the relevant acts.',\n",
       "    'status': 'Published',\n",
       "    '_version_': 1816043472163962880},\n",
       "   {'category': 'Agency',\n",
       "    'entity': 'Agent',\n",
       "    '_id': 'B2DDFED0-F1AD-11E9-AE98-871360FA46B2',\n",
       "    'timestamp': 1614747821,\n",
       "    'identifier.PROV_ACM.id': 'VA 430',\n",
       "    'citation': 'VA 430',\n",
       "    'identifier.PID.id': 'B2DDFED0-F1AD-11E9-AE98-871360FA46B2',\n",
       "    'title': 'Department of Property and Services',\n",
       "    'name.official_title.date_range': '[1978 TO 1991]',\n",
       "    'name.official_title.start_dt': '1978',\n",
       "    'name.official_title.end_dt': '1991',\n",
       "    'name.official_title.title': 'Department of Property and Services',\n",
       "    'date_range': ['[1978 TO 1991]'],\n",
       "    'start_dt': '1978',\n",
       "    'end_dt': '1991',\n",
       "    'jurisdictional_coverage': ['Victoria'],\n",
       "    'status': 'Published',\n",
       "    'description': \"Establishment and Functional Responsibilities 1978-1985<br/><br/>The Department of Property and Services was formally created by Order-in-Council on 16 May 1978.  It was originally principally concerned with coordinating the provision of centralised services to other government agencies, the management of state elections, and the provision of information services to the public through a number of operational units, including the Victorian Government Printing Office (VA 1035), Government Computing Service (VA 1857), Registry of Births, Deaths and Marriages (VA 983), Public Record Office (VA 683), State Electoral Office (VA 1061), Government Statist and Actuary (VA 989), and Government Courier Service (VA 1858). The Land Monitoring Division (VA 680) also operated within the Department until it was transferred to the Department of Management and Budget (VA 1022) in 1985.<br/><br/>In November 1981 the government information service and the government courier service were transferred to the Department from the Department of the Premier (VA 2717). Responsibility for government motor transport was also transferred from the Department of the Premier (VA 2717) in 1984.<br/><br/>Expansion of Responsibilities 1985<br/><br/>In 1985 following extensive machinery of government changes the Department was re-organised to enhance its role in relation to property and asset management, land identification and management, and land information services.  The Department assumed responsibility for the following operating units:<br/><br/>the Property and Services Division from the Public Works Department (VA 669)<br/><br/>the Titles Office and Registrar-General's Office (VA 862) from the Law Department (VA 864)<br/><br/>Land Information Services from the Law Department (VA 2825)<br/><br/>LANDATA from the Ministry of Planning and Environment (VA 1024)<br/><br/>the Surveyor-General's Office from the Department of Conservation, Forests and Lands (VA 1034)<br/><br/>the Government Employee Housing Authority (VA 1356) from the Ministry of Housing (VA 609)<br/><br/>the Valuer-General's Office (VA 2322) from the Local Government Department (VA 601).<br/><br/>The transfer to the Department of these functions reflected the Government's decision to consolidate land information services and transactional land and property related functions into one Department, including:<br/><br/>providing leased and purchased accommodation suitable for occupation by government departments<br/><br/>administration of the Torrens system of land registration for dealings in land<br/><br/>creation of a state wide information system detailing all matters of land related data<br/><br/>survey and mapping<br/><br/>providing suitable housing accommodation for government employees<br/><br/>providing valuation advice to government agencies and local government authorities.<br/><br/>land monitoring.<br/><br/>From 1978/79 until 1985 the Department of Property and Services (VA 430) had responsibility for the function of monitoring government land sales. This function was inherited by the Treasurer in 1985 and was the responsibility of the Land Monitoring Division of the Department of Management and Budget (VA 1022) until it was transferred to the Department of Planning and Urban Growth (VA 3006) in early 1990. In 1991 the function was transferred back to the Department of the Treasury (VA 3007) and remained with this agency until it was transferred to the Department of Finance (VA 3016) after the October 1992 election. In mid 1993 responsibility for land monitoring was transferred to the Department of Planning and Development (VA 3094).<br/><br/>Background<br/><br/>All purchases and sales of properties by Government of $100,000 or more require Land Monitoring approval to ensure that all Government requirements under the Land Acquisition and Compensation Act 1986 in relation to property transactions are met. The function was established to provide Government with an independent safeguard against further land dealings of the type criticised at the Gowans Board of Enquiry and later at the Frost Royal Commission. This function is completely separate from the budgeting and planning functions in relation to government real estate. The function encompasses:<br/><br/>monitoring all purchases and sales of properties by Government of $100,000 including assessing submissions from agencies and monitoring of auctions.<br/>the development of policies for the management of government real estate<br/>assisting in identifying properties that are surplus to current needs. Administering the Government's decision in relation to the disposal of surplus railway land<br/><br/>Landata<br/><br/>This function encompasses the development and provision of a comprehensive and co-ordinated electronic information network for quick access to data relating to any block of land in Victoria drawing on a variety of government agencies' records and information systems.<br/><br/>Background<br/><br/>Landata was established to co-ordinate the land information records and systems of various government agencies and to develop a computerised land information system for Victoria to provide ready access to information on each block of land in the State. In October 1982 a project team began developing a five year corporate plan for Landata, in conjunction with key user agencies. Responsibility for this function was transferred from the Department of Planning (VA 599) along with other planning functions in 1983. Landata became a division of the Ministry in January 1984.<br/><br/>In March 1985, following machinery of government changes, Landata was transferred to the Department of Property and Services (VA 430) and grouped administratively with other major land information and land administration agencies within the Department, such as the Titles Office, the Division of Survey and Mapping and the Valuer-General's Office. Prior to this the Government Computing Service of the Department of Property and Services had provided the Landata Division with advice on technical specifications for computing equipment for the Landata system. In January 1991 this function was transferred to the Ministry of Finance (VA 3016).<br/><br/>Further Responsibilities from 1988<br/><br/>Following more machinery of government changes in 1988 the Department assumed responsibility for the following functions:<br/><br/>sale of Crown lands, particularly by public auction, from the Department of Conservation, Forests and Lands (VA 1034)<br/><br/>supply of furniture, stores and equipment, fitting out government accommodation, maintenance of air-conditioning, and related survey and drafting functions for government constructions from the Ministry of Housing and Construction (VA 2907)<br/><br/>restraint and monitoring of prices, through the Office of Prices, following the transfer from the Department of Industry, Technology and Resources (VA 2661) of the Office of the Prices Commissioner and the Prices Peg Secretariat.<br/><br/>In September 1989 the Office of Prices was transferred again to the Ministry of Consumer Affairs (VA 1026).<br/><br/>The Department also provides administrative support to a number of small statutory authorities such as the:<br/><br/>Electoral Commission<br/>Surveyor's Board<br/>Municipal Valuation Fees Committee<br/>Public Records Advisory Council.<br/><br/>Abolition of the Department of Property and Services<br/><br/>Following significant machinery of government changes in January 1991, the Department of Property and Services was abolished and its functions transferred to the Ministry for the Arts (VA 1025), Department of the Treasury (VA 3007), the Attorney-General's Department (VA 2825), the Ministry for Ethnic, Municipal and Community Affairs (VA 3015) and the Ministry of Finance (VA 3016).<br/><br/>Location of Records<br/><br/>See also List of Holdings 2nd edition, 1985, section 3.18.1.\",\n",
       "    '_version_': 1816043472165011456},\n",
       "   {'category': 'Agency',\n",
       "    'entity': 'Agent',\n",
       "    '_id': 'B2DF5E61-F1AD-11E9-AE98-E7BD87B78B2E',\n",
       "    'timestamp': 1614747821,\n",
       "    'identifier.PROV_ACM.id': 'VA 431',\n",
       "    'citation': 'VA 431',\n",
       "    'identifier.PID.id': 'B2DF5E61-F1AD-11E9-AE98-E7BD87B78B2E',\n",
       "    'title': 'National Museum of Victoria',\n",
       "    'name.official_title.date_range': '[1854 TO 1983]',\n",
       "    'name.official_title.start_dt': '1854',\n",
       "    'name.official_title.end_dt': '1983',\n",
       "    'name.official_title.title': 'National Museum of Victoria',\n",
       "    'date_range': ['[1854 TO 1983]'],\n",
       "    'start_dt': '1854',\n",
       "    'end_dt': '1983',\n",
       "    'jurisdictional_coverage': ['Victoria'],\n",
       "    'description': 'The functions of the Museum have been to acquire and maintain collections in the fields of geology, anthropology and to display and carry out research on these collections.<br/><br/>Location of Records<br/><br/>Consult the List of Holdings section 3.3.8.',\n",
       "    'status': 'Published',\n",
       "    '_version_': 1816043472167108608},\n",
       "   {'category': 'Agency',\n",
       "    'entity': 'Agent',\n",
       "    '_id': 'B2E503B5-F1AD-11E9-AE98-471718C2281E',\n",
       "    'timestamp': 1614747821,\n",
       "    'identifier.PROV_ACM.id': 'VA 437',\n",
       "    'citation': 'VA 437',\n",
       "    'identifier.PID.id': 'B2E503B5-F1AD-11E9-AE98-471718C2281E',\n",
       "    'title': 'State College of Victoria',\n",
       "    'name.official_title.date_range': '[1972 TO 1980]',\n",
       "    'name.official_title.start_dt': '1972',\n",
       "    'name.official_title.end_dt': '1980',\n",
       "    'name.official_title.title': 'State College of Victoria',\n",
       "    'date_range': ['[1972 TO 1980]'],\n",
       "    'start_dt': '1972',\n",
       "    'end_dt': '1980',\n",
       "    'jurisdictional_coverage': ['Victoria'],\n",
       "    'description': 'The State College of Victoria (SCV) was established under the provisions of the State College of Victoria Act 1972 (no. 8376), which was proclaimed on 30 June 1973. The SCV became the co-ordinating body for teacher education in Victoria.<br/><br/>The first teacher training colleges were established in the 1920s at Ballarat, Bendigo and Melbourne. In the 1950s and 1960s, further colleges were opened in Geelong, Toorak, Burwood, Coburg and Frankston. These colleges offered teacher education programs for general primary and secondary school teachers. Other colleges for training specialist secondary and technical teachers were also established.<br/><br/>The State College of Victoria was established as a federation of former Education Department Teacher Training Colleges, the Kindergarten Teachers College and the Catholic Education Colleges. Following its establishment, the teacher training institutions ceased to be under the direct control of the Education Department.<br/><br/>The primary role of SCV was to co-ordinate and develop teacher training in Victoria by:<br/>* co-ordinating and fostering the development of the teachers college system through a Senate and Academic Board<br/>* training teachers for the areas of pre-school, primary, secondary and technical education<br/>* providing opportunities for upgrading of qualification of experienced teachers<br/>* providing places for vocational courses closely associated with teacher education<br/>* awarding degrees and diplomas<br/><br/>In 1978, the Committee of Inquiry into Post-Secondary Education (Partridge Committee) recommended that both the State College of Victoria and the Victoria Institute of Colleges (VA 571) be discontinued. The Victorian Post-Secondary Education Commission (VPSEC; VA721) was set up as a statutory authority under the provisions of the Post-Secondary Education Act 1978 (no. 9145). Following receipt of submissions in 1979 and discussions with interested bodies, VPSEC recommended to the Minister of Education that the separate administrations of the Victoria Institute of Colleges (VIC) and the State College of Victoria (SCV) be discontinued. Under the provisions of the Post-Secondary Education (Amendment) Act 1980 (No. 9424), VIC and SCV were abolished and their functions and assets were transferred to VPSEC.',\n",
       "    'status': 'Published',\n",
       "    '_version_': 1816043472167108609},\n",
       "   {'category': 'Agency',\n",
       "    'entity': 'Agent',\n",
       "    '_id': 'F6EFBDC9-F1A7-11E9-AE98-37B954692A59',\n",
       "    'timestamp': 1614747821,\n",
       "    'identifier.PROV_ACM.id': 'VA 429',\n",
       "    'citation': 'VA 429',\n",
       "    'identifier.PID.id': 'F6EFBDC9-F1A7-11E9-AE98-37B954692A59',\n",
       "    'title': 'Cancer Institute Board (CANCELLED: See VA 4001)',\n",
       "    'name.official_title.date_range': '[1753 TO 3000]',\n",
       "    'name.official_title.start_dt': '1753',\n",
       "    'name.official_title.end_dt': '3000',\n",
       "    'name.official_title.title': 'Cancer Institute Board (CANCELLED: See VA 4001)',\n",
       "    'date_range': ['[1753 TO 3000]'],\n",
       "    'start_dt': '1753',\n",
       "    'end_dt': '3000',\n",
       "    'jurisdictional_coverage': ['Victoria'],\n",
       "    'status': 'Published',\n",
       "    '_version_': 1816043472169205760},\n",
       "   {'category': 'Agency',\n",
       "    'entity': 'Agent',\n",
       "    '_id': 'B2E774B7-F1AD-11E9-AE98-D174FC70C154',\n",
       "    'timestamp': 1614747822,\n",
       "    'identifier.PROV_ACM.id': 'VA 439',\n",
       "    'citation': 'VA 439',\n",
       "    'identifier.PID.id': 'B2E774B7-F1AD-11E9-AE98-D174FC70C154',\n",
       "    'title': 'Collingwood (Town 1873-1876; City 1876-1994) Previously Known as East Collingwood (Municipal District 1855-1863; Borough 1863-1873; Town 1873)',\n",
       "    'name.official_title.date_range': '[1855 TO 1994]',\n",
       "    'name.official_title.start_dt': '1855',\n",
       "    'name.official_title.end_dt': '1994',\n",
       "    'name.official_title.title': 'Collingwood (Town 1873-1876; City 1876-1994) Previously Known as East Collingwood (Municipal District 1855-1863; Borough 1863-1873; Town 1873)',\n",
       "    'date_range': ['[1855 TO 1994]'],\n",
       "    'start_dt': '1855',\n",
       "    'end_dt': '1994',\n",
       "    'jurisdictional_coverage': ['Victoria'],\n",
       "    'description': 'The Municipal District of East Collingwood was established 24 April 1855. In 1863 it was proclaimed a Borough. The Borough of East Collingwood was proclaimed a Town on 21 April 1873.<br/><br/>By a proclamation of the Administrator of the Government of the Colony of Victoria, the name of East Collingwood was altered to Collingwood 19 May 1873. The Town of Collingwood was proclaimed a City on 10 January 1876.<br/><br/>Local Government Reform 1993-1995<br/><br/>This council was abolished in 1994 as part of a statewide program of local government reform enacted between 1993 and 1995.  The reform process reduced the number of councils from 210 to 78.  VA 3727 City of Yarra Council was appointed as the successor in law for the City of Collingwood (VA 439) and has assumed any rights, assets and liabilities of these abolished councils.',\n",
       "    'status': 'Published',\n",
       "    '_version_': 1816043472169205761}]}}"
      ]
     },
     "execution_count": 101,
     "metadata": {},
     "output_type": "execute_result"
    }
   ],
   "source": [
    "response.json()"
   ]
  },
  {
   "cell_type": "code",
   "execution_count": null,
   "id": "5f000f05-82dd-473c-8f25-68a1aa01807c",
   "metadata": {},
   "outputs": [],
   "source": []
  }
 ],
 "metadata": {
  "kernelspec": {
   "display_name": "Python 3 (ipykernel)",
   "language": "python",
   "name": "python3"
  },
  "language_info": {
   "codemirror_mode": {
    "name": "ipython",
    "version": 3
   },
   "file_extension": ".py",
   "mimetype": "text/x-python",
   "name": "python",
   "nbconvert_exporter": "python",
   "pygments_lexer": "ipython3",
   "version": "3.10.12"
  }
 },
 "nbformat": 4,
 "nbformat_minor": 5
}
