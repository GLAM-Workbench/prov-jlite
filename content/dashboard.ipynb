{
 "cells": [
  {
   "cell_type": "markdown",
   "id": "c7aac1c1-79a5-43a7-8522-0b0391924ac5",
   "metadata": {},
   "source": [
    "# PROV API dashboard"
   ]
  },
  {
   "cell_type": "code",
   "execution_count": 6,
   "id": "0b36a18c-0651-4008-a059-13f12947168b",
   "metadata": {},
   "outputs": [],
   "source": [
    "from IPython.display import HTML\n",
    "import requests\n",
    "import pandas as pd\n",
    "import altair as alt"
   ]
  },
  {
   "cell_type": "code",
   "execution_count": 8,
   "id": "d068401d-eb8c-432d-a938-64f058548985",
   "metadata": {},
   "outputs": [
    {
     "data": {
      "text/html": [
       "The PROV API currently returns 10,137,566 results."
      ],
      "text/plain": [
       "<IPython.core.display.HTML object>"
      ]
     },
     "metadata": {},
     "output_type": "display_data"
    }
   ],
   "source": [
    "api_url = \"https://api.prov.vic.gov.au/search/query\"\n",
    "params = {\n",
    "    \"q\": \"*:*\",\n",
    "}\n",
    "response = requests.get(api_url, params=params)\n",
    "data = response.json()\n",
    "\n",
    "display(HTML(f\"The PROV API currently returns {data['response']['numFound']:,} results.\"))"
   ]
  },
  {
   "cell_type": "code",
   "execution_count": 4,
   "id": "d4981637-7578-4b21-8fd3-cf5c73f96811",
   "metadata": {},
   "outputs": [],
   "source": [
    "def get_facets(field):\n",
    "    url = f\"https://api.prov.vic.gov.au/search/query?wt=json&q=*:*&facet=true&facet.field={field}&rows=0\"\n",
    "    response = requests.get(url)\n",
    "    data = response.json()\n",
    "    values = data[\"facet_counts\"][\"facet_fields\"][field]\n",
    "    return [{\"facet\": values[i], \"count\": values[i+1]} for i in range(0, len(values), 2)]\n",
    "\n",
    "def make_facet_chart(field):\n",
    "    facets = get_facets(field)\n",
    "    df = pd.DataFrame(facets)\n",
    "    chart = alt.Chart(df).mark_bar().encode(\n",
    "        x=alt.X(\"facet:N\", title=None),\n",
    "        y=alt.Y(\"count:Q\"),\n",
    "        color=alt.Color(\"facet:N\", title=field, legend=None),\n",
    "        tooltip = [alt.Tooltip(\"facet\", title=field), alt.Tooltip(\"count\", format=\",\")]\n",
    "    ).properties(width=200, height=200, title=field)\n",
    "    return chart"
   ]
  },
  {
   "cell_type": "code",
   "execution_count": 5,
   "id": "05ebcd00-ef73-4729-94c5-a3d37045a799",
   "metadata": {},
   "outputs": [
    {
     "data": {
      "text/html": [
       "\n",
       "<style>\n",
       "  #altair-viz-68b0b224802741bbacb32af8db350b79.vega-embed {\n",
       "    width: 100%;\n",
       "    display: flex;\n",
       "  }\n",
       "\n",
       "  #altair-viz-68b0b224802741bbacb32af8db350b79.vega-embed details,\n",
       "  #altair-viz-68b0b224802741bbacb32af8db350b79.vega-embed details summary {\n",
       "    position: relative;\n",
       "  }\n",
       "</style>\n",
       "<div id=\"altair-viz-68b0b224802741bbacb32af8db350b79\"></div>\n",
       "<script type=\"text/javascript\">\n",
       "  var VEGA_DEBUG = (typeof VEGA_DEBUG == \"undefined\") ? {} : VEGA_DEBUG;\n",
       "  (function(spec, embedOpt){\n",
       "    let outputDiv = document.currentScript.previousElementSibling;\n",
       "    if (outputDiv.id !== \"altair-viz-68b0b224802741bbacb32af8db350b79\") {\n",
       "      outputDiv = document.getElementById(\"altair-viz-68b0b224802741bbacb32af8db350b79\");\n",
       "    }\n",
       "\n",
       "    const paths = {\n",
       "      \"vega\": \"https://cdn.jsdelivr.net/npm/vega@5?noext\",\n",
       "      \"vega-lib\": \"https://cdn.jsdelivr.net/npm/vega-lib?noext\",\n",
       "      \"vega-lite\": \"https://cdn.jsdelivr.net/npm/vega-lite@5.20.1?noext\",\n",
       "      \"vega-embed\": \"https://cdn.jsdelivr.net/npm/vega-embed@6?noext\",\n",
       "    };\n",
       "\n",
       "    function maybeLoadScript(lib, version) {\n",
       "      var key = `${lib.replace(\"-\", \"\")}_version`;\n",
       "      return (VEGA_DEBUG[key] == version) ?\n",
       "        Promise.resolve(paths[lib]) :\n",
       "        new Promise(function(resolve, reject) {\n",
       "          var s = document.createElement('script');\n",
       "          document.getElementsByTagName(\"head\")[0].appendChild(s);\n",
       "          s.async = true;\n",
       "          s.onload = () => {\n",
       "            VEGA_DEBUG[key] = version;\n",
       "            return resolve(paths[lib]);\n",
       "          };\n",
       "          s.onerror = () => reject(`Error loading script: ${paths[lib]}`);\n",
       "          s.src = paths[lib];\n",
       "        });\n",
       "    }\n",
       "\n",
       "    function showError(err) {\n",
       "      outputDiv.innerHTML = `<div class=\"error\" style=\"color:red;\">${err}</div>`;\n",
       "      throw err;\n",
       "    }\n",
       "\n",
       "    function displayChart(vegaEmbed) {\n",
       "      vegaEmbed(outputDiv, spec, embedOpt)\n",
       "        .catch(err => showError(`Javascript Error: ${err.message}<br>This usually means there's a typo in your chart specification. See the javascript console for the full traceback.`));\n",
       "    }\n",
       "\n",
       "    if(typeof define === \"function\" && define.amd) {\n",
       "      requirejs.config({paths});\n",
       "      let deps = [\"vega-embed\"];\n",
       "      require(deps, displayChart, err => showError(`Error loading script: ${err.message}`));\n",
       "    } else {\n",
       "      maybeLoadScript(\"vega\", \"5\")\n",
       "        .then(() => maybeLoadScript(\"vega-lite\", \"5.20.1\"))\n",
       "        .then(() => maybeLoadScript(\"vega-embed\", \"6\"))\n",
       "        .catch(showError)\n",
       "        .then(() => displayChart(vegaEmbed));\n",
       "    }\n",
       "  })({\"config\": {\"view\": {\"continuousWidth\": 300, \"continuousHeight\": 300}}, \"concat\": [{\"data\": {\"name\": \"data-f8362c22c4b8ea6f1eb696e094f898db\"}, \"mark\": {\"type\": \"bar\"}, \"encoding\": {\"color\": {\"field\": \"facet\", \"legend\": null, \"title\": \"category\", \"type\": \"nominal\"}, \"tooltip\": [{\"field\": \"facet\", \"title\": \"category\", \"type\": \"nominal\"}, {\"field\": \"count\", \"format\": \",\", \"type\": \"quantitative\"}], \"x\": {\"field\": \"facet\", \"title\": null, \"type\": \"nominal\"}, \"y\": {\"field\": \"count\", \"type\": \"quantitative\"}}, \"height\": 200, \"title\": \"category\", \"width\": 200}, {\"data\": {\"name\": \"data-3593259c4394aab093c0b7d64e51cb8a\"}, \"mark\": {\"type\": \"bar\"}, \"encoding\": {\"color\": {\"field\": \"facet\", \"legend\": null, \"title\": \"entity\", \"type\": \"nominal\"}, \"tooltip\": [{\"field\": \"facet\", \"title\": \"entity\", \"type\": \"nominal\"}, {\"field\": \"count\", \"format\": \",\", \"type\": \"quantitative\"}], \"x\": {\"field\": \"facet\", \"title\": null, \"type\": \"nominal\"}, \"y\": {\"field\": \"count\", \"type\": \"quantitative\"}}, \"height\": 200, \"title\": \"entity\", \"width\": 200}, {\"data\": {\"name\": \"data-2fd7478bb3dccb7ab1007d8254918398\"}, \"mark\": {\"type\": \"bar\"}, \"encoding\": {\"color\": {\"field\": \"facet\", \"legend\": null, \"title\": \"record_form\", \"type\": \"nominal\"}, \"tooltip\": [{\"field\": \"facet\", \"title\": \"record_form\", \"type\": \"nominal\"}, {\"field\": \"count\", \"format\": \",\", \"type\": \"quantitative\"}], \"x\": {\"field\": \"facet\", \"title\": null, \"type\": \"nominal\"}, \"y\": {\"field\": \"count\", \"type\": \"quantitative\"}}, \"height\": 200, \"title\": \"record_form\", \"width\": 200}, {\"data\": {\"name\": \"data-d65f8091ed63f146edb236b48892dd4b\"}, \"mark\": {\"type\": \"bar\"}, \"encoding\": {\"color\": {\"field\": \"facet\", \"legend\": null, \"title\": \"format\", \"type\": \"nominal\"}, \"tooltip\": [{\"field\": \"facet\", \"title\": \"format\", \"type\": \"nominal\"}, {\"field\": \"count\", \"format\": \",\", \"type\": \"quantitative\"}], \"x\": {\"field\": \"facet\", \"title\": null, \"type\": \"nominal\"}, \"y\": {\"field\": \"count\", \"type\": \"quantitative\"}}, \"height\": 200, \"title\": \"format\", \"width\": 200}, {\"data\": {\"name\": \"data-cc6baa697eb9d536778c90ce73805832\"}, \"mark\": {\"type\": \"bar\"}, \"encoding\": {\"color\": {\"field\": \"facet\", \"legend\": null, \"title\": \"location\", \"type\": \"nominal\"}, \"tooltip\": [{\"field\": \"facet\", \"title\": \"location\", \"type\": \"nominal\"}, {\"field\": \"count\", \"format\": \",\", \"type\": \"quantitative\"}], \"x\": {\"field\": \"facet\", \"title\": null, \"type\": \"nominal\"}, \"y\": {\"field\": \"count\", \"type\": \"quantitative\"}}, \"height\": 200, \"title\": \"location\", \"width\": 200}, {\"data\": {\"name\": \"data-d6dbbe70f15f382fda1b95fe8d444ec1\"}, \"mark\": {\"type\": \"bar\"}, \"encoding\": {\"color\": {\"field\": \"facet\", \"legend\": null, \"title\": \"rights_status\", \"type\": \"nominal\"}, \"tooltip\": [{\"field\": \"facet\", \"title\": \"rights_status\", \"type\": \"nominal\"}, {\"field\": \"count\", \"format\": \",\", \"type\": \"quantitative\"}], \"x\": {\"field\": \"facet\", \"title\": null, \"type\": \"nominal\"}, \"y\": {\"field\": \"count\", \"type\": \"quantitative\"}}, \"height\": 200, \"title\": \"rights_status\", \"width\": 200}], \"columns\": 3, \"padding\": 20, \"$schema\": \"https://vega.github.io/schema/vega-lite/v5.20.1.json\", \"datasets\": {\"data-f8362c22c4b8ea6f1eb696e094f898db\": [{\"facet\": \"Item\", \"count\": 6329725}, {\"facet\": \"Image\", \"count\": 3613751}, {\"facet\": \"relatedEntity\", \"count\": 150092}, {\"facet\": \"Consignment\", \"count\": 23610}, {\"facet\": \"Series\", \"count\": 16930}, {\"facet\": \"Agency\", \"count\": 3137}, {\"facet\": \"Function\", \"count\": 321}], \"data-3593259c4394aab093c0b7d64e51cb8a\": [{\"facet\": \"Record\", \"count\": 6370265}, {\"facet\": \"Agent\", \"count\": 3137}, {\"facet\": \"Function\", \"count\": 321}], \"data-2fd7478bb3dccb7ab1007d8254918398\": [{\"facet\": \"File\", \"count\": 3884578}, {\"facet\": \"Document\", \"count\": 1504225}, {\"facet\": \"Map, Plan, or Drawing\", \"count\": 318136}, {\"facet\": \"Volume\", \"count\": 147139}, {\"facet\": \"Photograph or Image\", \"count\": 86846}, {\"facet\": \"Card\", \"count\": 11639}, {\"facet\": \"Moving Image\", \"count\": 7739}, {\"facet\": \"Data\", \"count\": 1821}, {\"facet\": \"Object\", \"count\": 337}, {\"facet\": \"Sound Recording\", \"count\": 82}, {\"facet\": \"Website\", \"count\": 2}], \"data-d65f8091ed63f146edb236b48892dd4b\": [{\"facet\": \"Physical\", \"count\": 6306201}, {\"facet\": \"Digital\", \"count\": 61193}], \"data-cc6baa697eb9d536778c90ce73805832\": [{\"facet\": \"North Melbourne\", \"count\": 9928296}, {\"facet\": \"Online\", \"count\": 4591602}, {\"facet\": \"Ballarat\", \"count\": 30064}, {\"facet\": \"Bendigo\", \"count\": 3697}, {\"facet\": \"Geelong\", \"count\": 918}, {\"facet\": \"Beechworth\", \"count\": 394}], \"data-d6dbbe70f15f382fda1b95fe8d444ec1\": [{\"facet\": \"Open\", \"count\": 6370758}, {\"facet\": \"Closed Record and Open Metadata\", \"count\": 28171}, {\"facet\": \"Closed\", \"count\": 13157}, {\"facet\": \"Not set\", \"count\": 6144}]}}, {\"mode\": \"vega-lite\"});\n",
       "</script>"
      ],
      "text/plain": [
       "alt.ConcatChart(...)"
      ]
     },
     "metadata": {},
     "output_type": "display_data"
    }
   ],
   "source": [
    "charts = []\n",
    "for field in [\"category\", \"entity\", \"record_form\", \"format\", \"location\", \"rights_status\"]:\n",
    "   charts.append(make_facet_chart(field))\n",
    "display(alt.concat(*charts, columns=3).properties(padding=20))"
   ]
  },
  {
   "cell_type": "code",
   "execution_count": null,
   "id": "68aa1b6e-d2f8-4b30-9905-9c5ecd9013ca",
   "metadata": {},
   "outputs": [],
   "source": []
  }
 ],
 "metadata": {
  "kernelspec": {
   "display_name": "Python 3 (ipykernel)",
   "language": "python",
   "name": "python3"
  },
  "language_info": {
   "codemirror_mode": {
    "name": "ipython",
    "version": 3
   },
   "file_extension": ".py",
   "mimetype": "text/x-python",
   "name": "python",
   "nbconvert_exporter": "python",
   "pygments_lexer": "ipython3",
   "version": "3.10.12"
  }
 },
 "nbformat": 4,
 "nbformat_minor": 5
}
